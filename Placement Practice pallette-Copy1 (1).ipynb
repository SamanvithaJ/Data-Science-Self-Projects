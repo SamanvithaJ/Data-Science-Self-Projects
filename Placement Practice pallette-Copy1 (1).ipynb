{
 "cells": [
  {
   "cell_type": "markdown",
   "id": "8990bf4e",
   "metadata": {},
   "source": [
    "## Factorial  [DONE ]"
   ]
  },
  {
   "cell_type": "markdown",
   "id": "d4be9c38",
   "metadata": {},
   "source": [
    "## program to print all prime numbers in an interval (already there some below but not running)"
   ]
  },
  {
   "cell_type": "markdown",
   "id": "a4434158",
   "metadata": {},
   "source": [
    "### program to sort the values of 1st list using 2nd list (already there some below but not running)"
   ]
  },
  {
   "cell_type": "markdown",
   "id": "ecd84f42",
   "metadata": {},
   "source": [
    "## palindrome pyramid to center"
   ]
  },
  {
   "cell_type": "markdown",
   "id": "115b6148",
   "metadata": {},
   "source": [
    "### diamond and hollow diamond"
   ]
  },
  {
   "cell_type": "code",
   "execution_count": 73,
   "id": "998020aa",
   "metadata": {},
   "outputs": [
    {
     "name": "stdout",
     "output_type": "stream",
     "text": [
      "-22\n",
      "-23\n",
      "-22.34\n",
      "22.345\n",
      "\n",
      "\n",
      "23\n",
      "22\n",
      "22.34\n",
      "22.345\n",
      "\n",
      "\n",
      "22\n",
      "22\n"
     ]
    }
   ],
   "source": [
    "#************ \n",
    "#ceil --floor --round --abs functions\n",
    "\n",
    "import math\n",
    "x = - 22.345\n",
    "y = 22.345\n",
    "\n",
    "print(math.ceil(x))    #Round off to next number (OR) smallest integer greater than or equal to x\n",
    "print(math.floor(x))   #non-decimal part of the number (OR) largest integer less than or equal to x\n",
    "print(round(x,2))      #Rounded off to 2 decimal places\n",
    "print(abs(x))          #absolute value\n",
    "\n",
    "print(\"\\n\")\n",
    "\n",
    "print(math.ceil(y))\n",
    "print(math.floor(y))   \n",
    "print(round(y,2))      \n",
    "print(abs(y))         \n",
    "\n",
    "print(\"\\n\")\n",
    "\n",
    "print(math.ceil(22))\n",
    "print(math.floor(22)) \n",
    "\n",
    "#NOTE: // stands for floor division (gives non-numerical part of quotient)\n",
    "#Ex: print(7.8//2) => 3.0 ; print(6.2//2) => 3.0\n",
    "\n",
    "# There's no ceil division, but you can apply upside-down floor division, like\n",
    "#def ceildiv(a, b):\n",
    "#    return -(a // -b)"
   ]
  },
  {
   "cell_type": "code",
   "execution_count": 23,
   "id": "c047fa43",
   "metadata": {},
   "outputs": [
    {
     "name": "stdout",
     "output_type": "stream",
     "text": [
      "50.000000%\n",
      "33\n",
      "<class 'str'>\n"
     ]
    }
   ],
   "source": [
    "#************\n",
    "#Formatting1    (WRITE MORE EXAMPLES ON THIS)\n",
    "\n",
    "y= 0.5\n",
    "z = 33\n",
    "\n",
    "x1 = format(y,\"%\")\n",
    "x2 = format(z,\"\") \n",
    "\n",
    "print(x1)\n",
    "print(x2)\n",
    "print(type(x2))"
   ]
  },
  {
   "cell_type": "code",
   "execution_count": 18,
   "id": "3031b9a0",
   "metadata": {},
   "outputs": [
    {
     "name": "stdout",
     "output_type": "stream",
     "text": [
      "how you doin?\n",
      "Hola, how are you?---how you doin?\n"
     ]
    }
   ],
   "source": [
    "#************\n",
    "#Formatting2    (WRITE MORE EXAMPLES ON THIS)\n",
    "\n",
    "#1\n",
    "print(\"{p}\".format(p=y))\n",
    "\n",
    "#2\n",
    "# print(j,end=\" \")\n",
    "\n",
    "#3\n",
    "x = \"Hola, how are you?\"\n",
    "y = \"how you doin?\"\n",
    "print(x,y, sep = \"---\")\n",
    "\n",
    "#4\n",
    "#In functions,how to write  print(j,end=\" \")\n",
    "#          print(j,end=\" \")\n",
    "#     return \"\"\n",
    "\n",
    "#5\n",
    "# x = \" \".join(str(lista)) #THIS IS WRONG METHOD   # When you want [2,1,1] to be printed as 2 1 1. Instead of using \n",
    "# a for loop and print(x,end = \" \"), which will increase the time complexity, you can use this strings method\n",
    "\n",
    "# print(\" \".join(list(map(str,lst)))) #THIS IS CORRECT METHOD  #Using map function\n",
    "\n",
    "#6\n",
    "\n"
   ]
  },
  {
   "cell_type": "markdown",
   "id": "023c88aa",
   "metadata": {},
   "source": [
    "#************\n",
    "Time complexity Tricks:\n",
    "1. x = \" \".join(str(lista)) #WRONG   # When you want [2,1,1] to be printed as 2 1 1. Instead of using a for loop and \n",
    "print(x,end = \" \"), which will increase the time complexity, you can use this strings method\n",
    "\n",
    "print(\" \".join(list(map(str,lst))))\n",
    "\n",
    "2. for loop instead of while loop. Even after using for loop, you get run time error, then use dictionaries.\n",
    "\n",
    "3. instead of for loops multiple times, you can use dictionary to reduce the time complexity. Dictionary also takes care of the duplicates, like sets."
   ]
  },
  {
   "cell_type": "code",
   "execution_count": 92,
   "id": "c2f310c0",
   "metadata": {},
   "outputs": [
    {
     "name": "stdout",
     "output_type": "stream",
     "text": [
      "120\n",
      "120\n"
     ]
    }
   ],
   "source": [
    "#************\n",
    "# program to write factorial of a number\n",
    "\n",
    "#Method -1      #This gives fact(0)=1,fact(1)=1 also\n",
    "\n",
    "def fact(n):\n",
    "    i=1\n",
    "    mult=1\n",
    "    while(i<=n):\n",
    "        mult = mult *i\n",
    "        i=i+1\n",
    "    return mult\n",
    "\n",
    "print(fact(5))\n",
    "\n",
    "#Method -2      #Even This gives fact(0)=1,fact(1)=1 also\n",
    "\n",
    "def factori(n):\n",
    "    facto = 1\n",
    "    for i in range(1,n):\n",
    "        facto = n * fact(n-1)\n",
    "    return facto\n",
    "\n",
    "print(factori(5))"
   ]
  },
  {
   "cell_type": "code",
   "execution_count": 2,
   "id": "989c739c",
   "metadata": {},
   "outputs": [
    {
     "data": {
      "text/plain": [
       "1"
      ]
     },
     "execution_count": 2,
     "metadata": {},
     "output_type": "execute_result"
    }
   ],
   "source": [
    "#************\n",
    "pow(5,0)"
   ]
  },
  {
   "cell_type": "code",
   "execution_count": 15,
   "id": "215f303b",
   "metadata": {},
   "outputs": [
    {
     "data": {
      "text/plain": [
       "8"
      ]
     },
     "execution_count": 15,
     "metadata": {},
     "output_type": "execute_result"
    }
   ],
   "source": [
    "#************\n",
    "# program to return power of a number (though it is already pre-defined as pow(a,b); I just wanted to try myself)\n",
    "def power(a,b):\n",
    "    c = a**b\n",
    "    return c\n",
    "\n",
    "power(2,3)"
   ]
  },
  {
   "cell_type": "code",
   "execution_count": 5,
   "id": "373cab70",
   "metadata": {},
   "outputs": [
    {
     "name": "stdout",
     "output_type": "stream",
     "text": [
      "6\n"
     ]
    }
   ],
   "source": [
    "# program to find length (no. of digits: n) in a integer number\n",
    "\n",
    "def length(m):\n",
    "    n=1\n",
    "    while(m>0):\n",
    "        if(int(m/pow(10,n))==0):\n",
    "            return n\n",
    "        else:\n",
    "            n=n+1\n",
    "\n",
    "length(243890)\n",
    "\n",
    "#method -2 (Easiest)\n",
    "\n",
    "v = 243890\n",
    "print(len(str(v)))\n",
    "\n",
    "    "
   ]
  },
  {
   "cell_type": "code",
   "execution_count": 7,
   "id": "efc2a88b",
   "metadata": {},
   "outputs": [
    {
     "name": "stdout",
     "output_type": "stream",
     "text": [
      "[3, 2, 3, 4, 2, 3, 7]\n",
      "3 2 3 4 2 3 7 "
     ]
    }
   ],
   "source": [
    "# program to print all digits in a number\n",
    "def digits(m):\n",
    "    for i in str(m):\n",
    "        a =[int(i) for i in str(m)]\n",
    "        return a\n",
    "        \n",
    "    \n",
    "print(digits(3234237))\n",
    "\n",
    "#method -2 (Easiest)\n",
    "v = 3234237\n",
    "for i in str(v):\n",
    "    print (i,end = \" \")"
   ]
  },
  {
   "cell_type": "code",
   "execution_count": 12,
   "id": "0290a6dc",
   "metadata": {},
   "outputs": [
    {
     "data": {
      "text/plain": [
       "' + 2 * 100 + 7 * 10 + 4 * 1'"
      ]
     },
     "execution_count": 12,
     "metadata": {},
     "output_type": "execute_result"
    }
   ],
   "source": [
    "# Program to write the expanded form of a number\n",
    "\n",
    "def expand(m):\n",
    "    for i in str(m):\n",
    "        a =[int(i) for i in str(m)]\n",
    "    j=0\n",
    "    total=\"\"\n",
    "    while (j<len(a)):\n",
    "        c = a[j]\n",
    "        total =(\"{t} + {x} * {y}\".format(t=total,x=c,y=pow(10,len(a)-j-1)))\n",
    "        j=j+1\n",
    "    return total\n",
    "   \n",
    "expand(274)\n"
   ]
  },
  {
   "cell_type": "code",
   "execution_count": 16,
   "id": "e78d6ca4",
   "metadata": {},
   "outputs": [
    {
     "name": "stdout",
     "output_type": "stream",
     "text": [
      "2 * 100 + 7 * 10 + 4 * 1\n"
     ]
    }
   ],
   "source": [
    "#************\n",
    "#method 2 for expanded form\n",
    "def expand(v):\n",
    "    l = len(str(v))\n",
    "    v = str(v)\n",
    "    lista = []\n",
    "    for i in range(l):\n",
    "        \n",
    "        a =  ('{x} * {y}').format(x = v[i] ,y = pow(10,(l-i-1)))\n",
    "        lista.append(a)\n",
    "    x = \" + \".join(lista)\n",
    "    print(x)\n",
    "    \n",
    "expand(274)"
   ]
  },
  {
   "cell_type": "code",
   "execution_count": 17,
   "id": "ebf22113",
   "metadata": {},
   "outputs": [
    {
     "name": "stdout",
     "output_type": "stream",
     "text": [
      "is Armstrong\n",
      "No\n",
      "is Armstrong\n"
     ]
    }
   ],
   "source": [
    "#************\n",
    "# Finding whether a number is Armstrong number or not : abcd... = pow(a,n)+pow(b,n)+....  Ex.: 153 = 1*1*1 +5*5*5 +3*3*3 \n",
    "def isA(n):\n",
    "    l = len(str(n))\n",
    "    x= 0\n",
    "    for i in str(n):\n",
    "        x = x + pow(int(i),l)\n",
    "    if(x==n):\n",
    "        return \"is Armstrong\"\n",
    "    else:\n",
    "        return \"No\"\n",
    "\n",
    "print(isA(153))\n",
    "print(isA(144))\n",
    "print(isA(1634))"
   ]
  },
  {
   "cell_type": "code",
   "execution_count": 18,
   "id": "a4f336f8",
   "metadata": {},
   "outputs": [
    {
     "name": "stdout",
     "output_type": "stream",
     "text": [
      "Enter the radius of the circle: 3\n"
     ]
    },
    {
     "data": {
      "text/plain": [
       "28.274333882308138"
      ]
     },
     "execution_count": 18,
     "metadata": {},
     "output_type": "execute_result"
    }
   ],
   "source": [
    "#************\n",
    "# Importing pi value from math and finding area of a circle\n",
    "\n",
    "from math import pi\n",
    "def area(r):\n",
    "    r =int(r)\n",
    "    area =pi*(r**2)\n",
    "    return area\n",
    "\n",
    "R =input(\"Enter the radius of the circle: \")\n",
    "area(R)"
   ]
  },
  {
   "cell_type": "code",
   "execution_count": 19,
   "id": "32c41ad0",
   "metadata": {},
   "outputs": [
    {
     "name": "stdout",
     "output_type": "stream",
     "text": [
      "prime\n",
      "not prime\n"
     ]
    }
   ],
   "source": [
    "#program to find if a no. is prime or not\n",
    "\n",
    "def isPrime(a): \n",
    "    i=2 \n",
    "    while(i<a): \n",
    "        if(a%i !=0): \n",
    "            i=i+1\n",
    "            z=\"prime\"\n",
    "        else: \n",
    "            z=\"not prime\"\n",
    "            break\n",
    "    print(z)\n",
    "\n",
    "isPrime(19)\n",
    "isPrime(99)"
   ]
  },
  {
   "cell_type": "code",
   "execution_count": null,
   "id": "fb2a6ac1",
   "metadata": {},
   "outputs": [],
   "source": [
    "#************\n",
    "#Method 2 (prime or not)\n",
    "\n",
    "def isP(n):\n",
    "    for i in range(2,n):\n",
    "        if(n%i != 0):\n",
    "            z = \"yes\"    \n",
    "        else:\n",
    "            z = \"no\"\n",
    "            break\n",
    "    return z\n",
    "        \n",
    "print(isP(55))\n",
    "print(isP(3))"
   ]
  },
  {
   "cell_type": "code",
   "execution_count": 20,
   "id": "b8f10cb0",
   "metadata": {},
   "outputs": [
    {
     "name": "stdout",
     "output_type": "stream",
     "text": [
      "13 17 19 23 "
     ]
    }
   ],
   "source": [
    "#************\n",
    "#program to print all prime numbers in an interval\n",
    "\n",
    "def isP(n):\n",
    "    for i in range(2,n):\n",
    "        if(n%i != 0):\n",
    "            z = \"yes\"    \n",
    "        else:\n",
    "            z = \"no\"\n",
    "            break\n",
    "    return z\n",
    "\n",
    "def allP(a,b):\n",
    "    for j in range(a+1,b):\n",
    "        if(isP(j) ==\"yes\"):\n",
    "            print(j,end=\" \")\n",
    "        else:\n",
    "            continue\n",
    "            \n",
    "allP(11,25)"
   ]
  },
  {
   "cell_type": "code",
   "execution_count": 21,
   "id": "a02fe9b1",
   "metadata": {},
   "outputs": [
    {
     "data": {
      "text/plain": [
       "55"
      ]
     },
     "execution_count": 21,
     "metadata": {},
     "output_type": "execute_result"
    }
   ],
   "source": [
    "#************\n",
    "#program for nth fibonacci number [Fn =Fn-1 +Fn-2 ; Fo=0,F1=1]\n",
    "\n",
    "def fib(n):\n",
    "    a =0\n",
    "    b =1\n",
    "    tot = 0\n",
    "    for i in range(1,n):\n",
    "        tot = a+b\n",
    "        a = b\n",
    "        b = tot\n",
    "        \n",
    "    return tot\n",
    "\n",
    "fib(10)\n"
   ]
  },
  {
   "cell_type": "code",
   "execution_count": 25,
   "id": "e2530247",
   "metadata": {},
   "outputs": [
    {
     "name": "stdout",
     "output_type": "stream",
     "text": [
      "1 2 3 5 8 13 21 34 55 1 2 3 5 8 13 21 34 55 89 144 "
     ]
    }
   ],
   "source": [
    "#************\n",
    "#print fibonacci series till nth fibonacci number [Fn =Fn-1 +Fn-2 ; Fo=0,F1=1]\n",
    "\n",
    "def fibonacci(n):\n",
    "    a =0\n",
    "    b =1\n",
    "    tot = 0\n",
    "    for i in range(1,n):\n",
    "        tot = a+b\n",
    "        a = b\n",
    "        b = tot\n",
    "        print(b, end =\" \")\n",
    "\n",
    "fibonacci(10)\n",
    "        \n",
    "fibonacci(12)"
   ]
  },
  {
   "cell_type": "code",
   "execution_count": 27,
   "id": "b38904c2",
   "metadata": {},
   "outputs": [
    {
     "name": "stdout",
     "output_type": "stream",
     "text": [
      "Is a fibonacci number\n",
      "Is a fibonacci number\n",
      "is not\n"
     ]
    }
   ],
   "source": [
    "# Program to check if a number is fibonacci number or not\n",
    "def isfibonacci(n):\n",
    "    a =0\n",
    "    b =1\n",
    "    tot = 0\n",
    "    list1=[]\n",
    "    for i in range(1,n):\n",
    "        tot = a+b\n",
    "        a = b\n",
    "        b = tot\n",
    "        list1.append(b)\n",
    "    if(n in list1):\n",
    "        print(\"Is a fibonacci number\")\n",
    "    else:\n",
    "        print(\"is not\")\n",
    "\n",
    "isfibonacci(144)\n",
    "isfibonacci(8)\n",
    "isfibonacci(41)\n"
   ]
  },
  {
   "cell_type": "code",
   "execution_count": 44,
   "id": "0ceb5a7f",
   "metadata": {},
   "outputs": [
    {
     "name": "stdout",
     "output_type": "stream",
     "text": [
      "Is perfect square\n",
      "is not a ps\n"
     ]
    }
   ],
   "source": [
    "#************ (see method 2 also)\n",
    "# Program to check if a number is Perfect Square or not\n",
    "def isPS(n):\n",
    "    n=int(n)\n",
    "    r=int(pow(n,0.5))\n",
    "    x = r*r\n",
    "    if(x ==n):\n",
    "        print(\"Is perfect square\")\n",
    "    else:\n",
    "        print(\"is not a ps\")\n",
    "        \n",
    "isPS(144)\n",
    "isPS(155)"
   ]
  },
  {
   "cell_type": "code",
   "execution_count": 43,
   "id": "34740472",
   "metadata": {},
   "outputs": [
    {
     "name": "stdout",
     "output_type": "stream",
     "text": [
      "12.0\n",
      "[0, 1, 2, 3, 4, 5, 6, 7, 8, 9, 10, 11, 12]\n",
      "Is perfect square\n",
      "12.449899597988733\n",
      "[0, 1, 2, 3, 4, 5, 6, 7, 8, 9, 10, 11, 12]\n",
      "is not a ps\n"
     ]
    }
   ],
   "source": [
    "#method 2 (is perfect square or not)\n",
    "def isPS(n):\n",
    "    n=int(n)\n",
    "    r=pow(n,0.5)\n",
    "    print(r)\n",
    "    list1=[]\n",
    "    for i in range(round(r+1)):  # will print all numbers from 0 to int(r)\n",
    "        list1.append(i)\n",
    "    print(list1)\n",
    "    if(r in list1):\n",
    "        print(\"Is perfect square\")\n",
    "    else:\n",
    "        print(\"is not a ps\")\n",
    "        \n",
    "isPS(144)\n",
    "isPS(155)"
   ]
  },
  {
   "cell_type": "code",
   "execution_count": 45,
   "id": "7295fd7d",
   "metadata": {},
   "outputs": [
    {
     "data": {
      "text/plain": [
       "55"
      ]
     },
     "execution_count": 45,
     "metadata": {},
     "output_type": "execute_result"
    }
   ],
   "source": [
    "#program for sum of first n natural numbers\n",
    "def sumN(n):\n",
    "    total =0\n",
    "    i=1\n",
    "    while(i<=n):\n",
    "        total=total+i\n",
    "        i=i+1\n",
    "    return total\n",
    "\n",
    "sumN(10)"
   ]
  },
  {
   "cell_type": "code",
   "execution_count": 50,
   "id": "6ecf65b4",
   "metadata": {},
   "outputs": [
    {
     "name": "stdout",
     "output_type": "stream",
     "text": [
      "14\n",
      "385\n"
     ]
    }
   ],
   "source": [
    "#************\n",
    "#program for sum of squares of first n natural numbers\n",
    "def sumS(n):\n",
    "    tot = 0\n",
    "    for i in range (1,n+1):\n",
    "        tot = tot + i*i\n",
    "    print(tot)\n",
    "    \n",
    "\n",
    "sumS(3)\n",
    "sumS(10)"
   ]
  },
  {
   "cell_type": "code",
   "execution_count": 47,
   "id": "b5e3797c",
   "metadata": {},
   "outputs": [
    {
     "data": {
      "text/plain": [
       "3025"
      ]
     },
     "execution_count": 47,
     "metadata": {},
     "output_type": "execute_result"
    }
   ],
   "source": [
    "#program for sum of cubes of first n natural numbers\n",
    "def sumCN(n):\n",
    "    total =0\n",
    "    i=1\n",
    "    while(i<=n):\n",
    "        total=total+(i*i*i)\n",
    "        i=i+1\n",
    "    return total\n",
    "\n",
    "sumCN(10)"
   ]
  },
  {
   "cell_type": "code",
   "execution_count": 65,
   "id": "b6ebfbc6",
   "metadata": {},
   "outputs": [
    {
     "name": "stdout",
     "output_type": "stream",
     "text": [
      "a\n",
      "97\n",
      "\n",
      "\n",
      "65\n",
      "\n",
      "\n",
      "Enter a word/string: happy\n",
      "h \t 104\n",
      "a \t 97\n",
      "p \t 112\n",
      "p \t 112\n",
      "y \t 121\n"
     ]
    }
   ],
   "source": [
    "#************\n",
    "# program to print ASCII value of a character in a string\n",
    "#in python, we use ord(character) function to get the ascii value of a character and chr(ascii value) to get the character\n",
    "\n",
    "print(chr(97))\n",
    "print(ord(\"a\"))\n",
    "\n",
    "print(\"\\n\")\n",
    "\n",
    "print(ord(\"A\"))\n",
    "\n",
    "print(\"\\n\")\n",
    "\n",
    "word=str(input(\"Enter a word/string: \"))\n",
    "\n",
    "for char in word:\n",
    "    ascii = ord(char)\n",
    "    print(char,\"\\t\", ascii)"
   ]
  },
  {
   "cell_type": "code",
   "execution_count": 74,
   "id": "2af63524",
   "metadata": {},
   "outputs": [
    {
     "name": "stdout",
     "output_type": "stream",
     "text": [
      "0 1 2 3 4 5 6 \n",
      "\n",
      "3 4 5 6 \n",
      "\n",
      "0 3 6 \n",
      "\n",
      "1 3 5 \n",
      "\n",
      "I'm happy! @ I'm happy! @ I'm happy! @ \n",
      "\n",
      "4 6 8 10 12 14 \n",
      "\n",
      "5 7 9 11 13 15 \n",
      "\n",
      "-4 -3 -2 -1 \n",
      "\n",
      "1 2 3 4 5 "
     ]
    }
   ],
   "source": [
    "# Range Function:\n",
    "for i in range(7):     #gives output from 0 to 6\n",
    "    print(i,end=\" \")                                     #output 1\n",
    "\n",
    "print(\"\\n\")\n",
    "\n",
    "for i in range(3,7):   #gives output from 3 to 6\n",
    "    print(i,end=\" \")                                     #output 2\n",
    "\n",
    "print(\"\\n\")\n",
    "\n",
    "for i in range(0,7,3):        #Range and step function (also called as slicing)   [Here you cannot give (7,3) instead give(0,7,3)]\n",
    "    print(i,end=\" \")         #Gives spacing of 3 elements between elements      #output 3\n",
    "\n",
    "print(\"\\n\")   \n",
    "\n",
    "for i in range(1,7,2):      #Range and step function  (also called as slicing)\n",
    "    print(i,end=\" \")                                     #output 4\n",
    "\n",
    "print(\"\\n\")\n",
    "\n",
    "for i in range(3):          #Range and loop\n",
    "    print(\"I'm happy!\",end=\" @ \")  #ie, loop is executed for 3 times         #output 5\n",
    "\n",
    "print(\"\\n\")   \n",
    "\n",
    "for i in range(4,15+1):       #print even numbers in a range(4,15)     #Here we have to take 15+1=16,otherwise as per range function,it doesn't include 15\n",
    "    if(i%2==0):\n",
    "        print(i,end=\" \")                                #output 6\n",
    "\n",
    "print(\"\\n\")       \n",
    "\n",
    "for i in range(4,15+1):       #print odd numbers in a range(4,15)     #Here we have to take 15+1=16,otherwise as per range function,it doesn't include 15\n",
    "    if(i%2==0):\n",
    "        continue\n",
    "    else:\n",
    "        print(i,end=\" \")                                #output 7\n",
    "\n",
    "print(\"\\n\")\n",
    "\n",
    "for i in range(-4,5+1):       #print negative numbers in a range(-4,5)     #Here we have to take 15+1=16,otherwise as per range function,it doesn't include 15\n",
    "    if(i<0):\n",
    "        print(i,end=\" \")                                #output 8\n",
    "\n",
    "print(\"\\n\")\n",
    "\n",
    "for i in range(-4,5+1):       #print positive numbers in a range(-4,5)     #Here we have to take 15+1=16,otherwise as per range function,it doesn't include 15\n",
    "    if(i>0):\n",
    "        print(i,end=\" \")                                #output 9\n",
    "\n",
    "    \n",
    "\n",
    "#NOTE:  Slicing also possible in arrays(to be precise) in lists and strings as well  "
   ]
  },
  {
   "cell_type": "code",
   "execution_count": 86,
   "id": "1ac0b406",
   "metadata": {},
   "outputs": [
    {
     "name": "stdout",
     "output_type": "stream",
     "text": [
      "8 7 6 5 4 3 2 1 "
     ]
    }
   ],
   "source": [
    "#************\n",
    "# Program to access the no.s in reverse order\n",
    "def rev(n):\n",
    "    for i in range(n,0,-1):     # not (0,n,-1)\n",
    "        print(i,end=\" \")\n",
    "rev(8)\n",
    "\n",
    "#NOTE:  \"IMP for pattern problems"
   ]
  },
  {
   "cell_type": "code",
   "execution_count": 93,
   "id": "2cbefb17",
   "metadata": {},
   "outputs": [
    {
     "name": "stdout",
     "output_type": "stream",
     "text": [
      "10.0\n",
      "Invalid input\n"
     ]
    }
   ],
   "source": [
    "#************\n",
    "#Write a program to find the binary coefficient (nCr)\n",
    "\n",
    "def fact(n):\n",
    "    i=1\n",
    "    mult=1\n",
    "    while(i<=n):\n",
    "        mult = mult *i\n",
    "        i=i+1\n",
    "    return mult\n",
    "\n",
    "def bicoeff(n,r):     #n,r are non negative integers\n",
    "    if(r>n):\n",
    "        print(\"Invalid input\")\n",
    "    else:\n",
    "        coeff = fact(n)/ ((fact(n-r))*(fact(r)))\n",
    "        print(coeff)\n",
    "bicoeff(5,2)\n",
    "bicoeff(3,5)"
   ]
  },
  {
   "cell_type": "code",
   "execution_count": 94,
   "id": "fe4fdf31",
   "metadata": {},
   "outputs": [
    {
     "name": "stdout",
     "output_type": "stream",
     "text": [
      "They are pythagorean triplets\n",
      "not\n",
      "They are pythagorean triplets\n"
     ]
    }
   ],
   "source": [
    "#************\n",
    "# check for pythagorean triplets\n",
    "\n",
    "def isPyt(x,y,z):\n",
    "    lista=[x,y,z]\n",
    "    lista.sort()\n",
    "    a=lista[0]\n",
    "    b=lista[1]\n",
    "    c=lista[2]\n",
    "    \n",
    "    m=pow(c,2)\n",
    "    n=pow(b,2)+pow(a,2)\n",
    "    if(m==n):\n",
    "        print(\"They are pythagorean triplets\")\n",
    "    else:\n",
    "        print(\"not\")\n",
    "\n",
    "isPyt(3,5,4)\n",
    "isPyt(3,4,1)\n",
    "isPyt(25,7,24)\n"
   ]
  },
  {
   "cell_type": "code",
   "execution_count": 29,
   "id": "8802e653",
   "metadata": {},
   "outputs": [
    {
     "name": "stdout",
     "output_type": "stream",
     "text": [
      "3\n",
      "[5, 6, 10]\n"
     ]
    }
   ],
   "source": [
    "#************\n",
    "\n",
    "#Using map function #WRITE more examples on this\n",
    "\n",
    "lista = ['apple','banana','watermelon']\n",
    "\n",
    "def func(x):\n",
    "    return len(x)\n",
    "\n",
    "\n",
    "print(func(lista))\n",
    "\n",
    "#print(map(func,lista))     # WRONG WAY TO APPLY THE MAP FUNCTION\n",
    "y = list(map(func,lista))\n",
    "print(y)\n",
    "\n",
    "\n",
    "#NOTE: built-in map and list comprehension(i.e, using lambda) are much more faster than pandas methods (i.e, apply)."
   ]
  },
  {
   "cell_type": "markdown",
   "id": "89e5778e",
   "metadata": {},
   "source": [
    "### Conversions and related problems"
   ]
  },
  {
   "cell_type": "code",
   "execution_count": 2,
   "id": "48172aed",
   "metadata": {
    "scrolled": true
   },
   "outputs": [
    {
     "name": "stdout",
     "output_type": "stream",
     "text": [
      "21\n",
      "95\n",
      "10101"
     ]
    }
   ],
   "source": [
    "#************\n",
    "# Conversions\n",
    "#1. Binary to decimal   #binary=>{0,1}  ; decimal=>{0,1,2,3,4,5,6,7,8,9}\n",
    "def btod(n):\n",
    "\n",
    "    j=0\n",
    "    lista=[]\n",
    "    for i in str(n):\n",
    "        a =[int(i) for i in str(n)]\n",
    "        m=len(a)\n",
    "    while(j<m):\n",
    "        x = a[j]*pow(2,(m-j-1))\n",
    "        lista.append(x)\n",
    "        j=j+1\n",
    "    summa=sum(lista)\n",
    "    print(summa)\n",
    "    \n",
    "btod(10101)\n",
    "\n",
    "#2 octal to decimal  #octal=>{0,1,2,3,4,5,6,7}\n",
    "def otod(n):\n",
    "    j=0\n",
    "    lista=[]\n",
    "    for i in str(n):\n",
    "        a =[int(i) for i in str(n)]\n",
    "        m=len(a)\n",
    "    while(j<m):\n",
    "        x = a[j]*pow(8,(m-j-1))\n",
    "        lista.append(x)\n",
    "        j=j+1\n",
    "    summa=sum(lista)\n",
    "    print(summa)\n",
    "    \n",
    "otod(137)\n",
    "    \n",
    "#3 hexadecimal to decimal   #hexadecimal=>{0,1,2,3,4,5,6,7,8,9,A,B,C,D,E,F}\n",
    "def htod(n):\n",
    "    j=0\n",
    "    lista=[]\n",
    "    \n",
    "    for i in str(n):\n",
    "        a =[int(i) for i in str(n)]\n",
    "        m=len(a)\n",
    "    while(j<m):\n",
    "        x = a[j]*pow(8,(m-j-1))\n",
    "        lista.append(x)\n",
    "        j=j+1\n",
    "    summa=sum(lista)\n",
    "    print(summa)\n",
    "    \n",
    "#htod(1CF)\n",
    "\n",
    "#4. Decimal to binary\n",
    "def dtob(n):\n",
    "        i=0\n",
    "        r=0\n",
    "        d=10\n",
    "        while(n>0):\n",
    "            m=int(n/2)\n",
    "            r=n%2\n",
    "            print(r,end=\"\")\n",
    "            n=m\n",
    "dtob(21)\n",
    "        \n",
    "\n",
    "#5 decimal to octal\n",
    "#6 decimal to hexadecimal\n",
    "    \n",
    "            "
   ]
  },
  {
   "cell_type": "code",
   "execution_count": 72,
   "id": "fdd188b6",
   "metadata": {},
   "outputs": [
    {
     "name": "stdout",
     "output_type": "stream",
     "text": [
      "10101\n",
      "0xe1\n",
      "0o14\n",
      "10101"
     ]
    },
    {
     "ename": "TypeError",
     "evalue": "int() can't convert non-string with explicit base",
     "output_type": "error",
     "traceback": [
      "\u001b[1;31m---------------------------------------------------------------------------\u001b[0m",
      "\u001b[1;31mTypeError\u001b[0m                                 Traceback (most recent call last)",
      "Input \u001b[1;32mIn [72]\u001b[0m, in \u001b[0;36m<cell line: 28>\u001b[1;34m()\u001b[0m\n\u001b[0;32m     25\u001b[0m     x \u001b[38;5;241m=\u001b[39m \u001b[38;5;28mint\u001b[39m(n,\u001b[38;5;241m2\u001b[39m)\n\u001b[0;32m     26\u001b[0m     \u001b[38;5;28;01mreturn\u001b[39;00m x\n\u001b[1;32m---> 28\u001b[0m \u001b[38;5;28mprint\u001b[39m(\u001b[43mbinaryToDecimal\u001b[49m\u001b[43m(\u001b[49m\u001b[38;5;241;43m10101\u001b[39;49m\u001b[43m)\u001b[49m)\n",
      "Input \u001b[1;32mIn [72]\u001b[0m, in \u001b[0;36mbinaryToDecimal\u001b[1;34m(n)\u001b[0m\n\u001b[0;32m     24\u001b[0m \u001b[38;5;28;01mdef\u001b[39;00m \u001b[38;5;21mbinaryToDecimal\u001b[39m(n):         \u001b[38;5;66;03m#btod\u001b[39;00m\n\u001b[1;32m---> 25\u001b[0m     x \u001b[38;5;241m=\u001b[39m \u001b[38;5;28;43mint\u001b[39;49m\u001b[43m(\u001b[49m\u001b[43mn\u001b[49m\u001b[43m,\u001b[49m\u001b[38;5;241;43m2\u001b[39;49m\u001b[43m)\u001b[49m\n\u001b[0;32m     26\u001b[0m     \u001b[38;5;28;01mreturn\u001b[39;00m x\n",
      "\u001b[1;31mTypeError\u001b[0m: int() can't convert non-string with explicit base"
     ]
    }
   ],
   "source": [
    "#************\n",
    "#Uisng inbuilt functions\n",
    "\n",
    "x  = bin(21).replace(\"0b\",\"\")    # dtob\n",
    "print(x)\n",
    " \n",
    "y = hex(225)                     #dtoh\n",
    "print(y)\n",
    "\n",
    "z = oct(12)                      #dtoo\n",
    "print(z)\n",
    "\n",
    "def decimalToBinary(n):          #dtob\n",
    " \n",
    "    if(n > 1):\n",
    "        # divide with integral result\n",
    "        # (discard remainder)\n",
    "        decimalToBinary(n//2)\n",
    "    print(n%2, end='')\n",
    "\n",
    "decimalToBinary(21)\n",
    "\n",
    "\n",
    "def binaryToDecimal(n):         #btod\n",
    "    x = int(n,2)\n",
    "    return x\n",
    "\n",
    "print(binaryToDecimal(10101))"
   ]
  },
  {
   "cell_type": "code",
   "execution_count": 45,
   "id": "ae658194",
   "metadata": {},
   "outputs": [
    {
     "name": "stdout",
     "output_type": "stream",
     "text": [
      "00000000000000000000000000010101\n",
      "\n",
      "\n",
      "00000000000000000000000000010101\n"
     ]
    }
   ],
   "source": [
    "#************\n",
    "# binary to binary of 32 bits\n",
    "x=10101\n",
    "\n",
    "def a32(n):\n",
    "    n=str(n)\n",
    "    m=len(n)\n",
    "    while(m<32):\n",
    "        i=\"0\"\n",
    "        n=i+n\n",
    "        m=m+1\n",
    "    print(n)\n",
    "    \n",
    "a32(x)\n",
    "\n",
    "print('\\n')\n",
    "    \n",
    "#Method 2                #Using z-fill string  method\n",
    "\n",
    "print(str(x).zfill(32))\n",
    "    "
   ]
  },
  {
   "cell_type": "code",
   "execution_count": 73,
   "id": "8afda0bf",
   "metadata": {},
   "outputs": [
    {
     "name": "stdout",
     "output_type": "stream",
     "text": [
      "10001\n"
     ]
    }
   ],
   "source": [
    "#************\n",
    "\n",
    "#Adding 2 binary no.s\n",
    "\n",
    "#method1:\n",
    "a = 1101\n",
    "b = 100\n",
    "a= str(a)\n",
    "b=str(b)\n",
    "\n",
    "\n",
    "suma = bin(int(a, 2) + int(b, 2))\n",
    "print(suma[2:])"
   ]
  },
  {
   "cell_type": "code",
   "execution_count": 35,
   "id": "798e0b2b",
   "metadata": {},
   "outputs": [
    {
     "name": "stdout",
     "output_type": "stream",
     "text": [
      "01010"
     ]
    }
   ],
   "source": [
    "#************\n",
    "\n",
    "# ones to zeros and zeros to ones\n",
    "x=10101\n",
    "\n",
    "def convert(n):\n",
    "    for i in (str(n)):\n",
    "        if i==\"1\":\n",
    "            n=i.replace(\"1\",\"0\")\n",
    "        elif i==\"0\":\n",
    "            n=i.replace(\"0\",\"1\")\n",
    "        print(n,end=\"\")\n",
    "\n",
    "convert(x)"
   ]
  },
  {
   "cell_type": "markdown",
   "id": "e33d59aa",
   "metadata": {},
   "source": [
    "# Problems on Array (list is a type of array along with tuples,sets and dictionaries. It may be written as arr[] ={1,2,3}"
   ]
  },
  {
   "cell_type": "code",
   "execution_count": null,
   "id": "5c740201",
   "metadata": {},
   "outputs": [],
   "source": [
    "# Basic Problems if elements are integers\n",
    "list1=[10,20,4,6,30,9,68,79,33,13]  #10 elements\n",
    "\n",
    "#1  max and min no. on the list\n",
    "print(max(list1))     #output 1\n",
    "print(min(list1))     #output 2\n",
    "\n",
    "#2 sum of numbers in the list            #NOTE: Can be done using sum() methods as well\n",
    "\n",
    "Sum=0\n",
    "for i in list1:\n",
    "    Sum=Sum+i\n",
    "    i=i+1\n",
    "print(Sum)            #output 3     #method 1 for sum\n",
    "total=sum(list1)\n",
    "print(total)          #output 4     #method 2 for sum\n",
    "\n",
    "#3 product of numbers in the list         #NOTE: Can be done using numpy or lamda or math.prod methods as well\n",
    "product=1\n",
    "for i in list1:\n",
    "    product=product*i\n",
    "    i=i+1\n",
    "print(product)        #output 5\n",
    "\n",
    "\n",
    "#4 length of the list                       \n",
    "print(\" the length of list using len() is: \",len(list1))                       #output 6\n",
    "\n",
    "#5 to clear list\n",
    "list1.clear()\n",
    "print(list1)           #output 7\n",
    "\n"
   ]
  },
  {
   "cell_type": "code",
   "execution_count": null,
   "id": "8bcb0069",
   "metadata": {
    "scrolled": true
   },
   "outputs": [],
   "source": [
    "#IMP LIST FUNCTIONS\n",
    "list1=[9,78,6,8,43,55,1,27]  # initially 8 elements are there in this list; indexing from 0 to 7\n",
    "\n",
    "#1 append(element_name): to add new element to the list\n",
    "list1.append(100)\n",
    "print(list1)          #output 1\n",
    "\n",
    "\n",
    "#2 insert(index_no,element_name): to add new element to the list at a specific position(or index)\n",
    "list1.insert(4,33)\n",
    "print(list1)         #output 2\n",
    "\n",
    "#3 pop(index no.): to remove last element of the list\n",
    "list1.pop()\n",
    "print(list1)          #output3 i.e, it removes 100\n",
    "\n",
    "\n",
    "#4 remove(element_name): to remove any element of the list\n",
    "list1.remove(55)\n",
    "print(list1)          #output4\n",
    "\n",
    "#5: copy(): prints the list once (also called as cloning)\n",
    "print(list1.copy())         #output 5\n",
    "\n",
    "\n",
    "#6 count(element_name): gives no of times the element is present in the list\n",
    "print(list1.count(33))    #output 6\n",
    "print(list1.count(34))      #output 7\n",
    "\n",
    "#6 index(element_name): gives the index(or position) of the element in the list\n",
    "print(list1.index(33))      #output 8\n",
    "# list1.index(34)      This will cause error and doesn't run the code further\n",
    "print(list1.index(27))    #output 9\n",
    "\n",
    "#10 min and max\n",
    "print(max(list1))       #output 10\n",
    "print(min(list1))       #output 11\n",
    "\n",
    "\n",
    "#11 to clear list\n",
    "list1.clear()\n",
    "print(list1)           #output 12\n",
    "\n",
    "print(\"NOTE: THERE ARE 3 MORE LIST FUNCTIONS extend(new_element_Name),sort() and reverse() AS WELL\")\n"
   ]
  },
  {
   "cell_type": "code",
   "execution_count": 56,
   "id": "a2b07736",
   "metadata": {},
   "outputs": [
    {
     "name": "stdout",
     "output_type": "stream",
     "text": [
      "['happy', 'john', 'ken', 'sama', 'sana']\n"
     ]
    }
   ],
   "source": [
    "# program to sort the words inn alphabetical order\n",
    "listnames =[\"ken\",\"john\",\"happy\",\"sana\",\"sama\"]\n",
    "listnames.sort()\n",
    "print(listnames)"
   ]
  },
  {
   "cell_type": "code",
   "execution_count": null,
   "id": "7bc48752",
   "metadata": {},
   "outputs": [],
   "source": [
    "# list to no. and no. to list   # variations in strings and no.s\n",
    "a = 234\n",
    "b = \"kjl\"\n",
    "c= [5,7,8,9]\n",
    "d = [\"a\",\"b\",\"c\"]\n",
    "x =[int(i) for i in str(a)]       # string to list\n",
    "y =[i for i in b]                 # no. to list\n",
    "print(x)\n",
    "print(y)\n",
    "\n",
    "sum=\"0\"\n",
    "for i in c:\n",
    "    i= str(i)\n",
    "    sum=sum+i\n",
    "print(sum[1:])                    # list to no.\n",
    "\n",
    "w= \"\".join(d)                     # list to string\n",
    "print(w)"
   ]
  },
  {
   "cell_type": "code",
   "execution_count": null,
   "id": "2d447965",
   "metadata": {},
   "outputs": [],
   "source": [
    "#linear search\n",
    "list1=[10,30,33,55,65,80,93]\n",
    "\n",
    "def linearSearch(lista,key):\n",
    "    n=len(lista)\n",
    "    i=0\n",
    "    for i in range(0,n):\n",
    "        if(lista[i]==key):\n",
    "            print(i)\n",
    "        else:\n",
    "            continue\n",
    "            \n",
    "            \n",
    "linearSearch(list1,33)"
   ]
  },
  {
   "cell_type": "code",
   "execution_count": null,
   "id": "27ce7a37",
   "metadata": {},
   "outputs": [],
   "source": [
    "#binary search\n",
    "list1=[10,30,33,55,65,80,93]    #NOTE: For binary search, the elements should be in ascending order\n",
    "\n",
    "def binarySearch(lista,key):\n",
    "\n",
    "    n=len(lista)\n",
    "    s=0                             #starting point\n",
    "    e=n                             #ending point\n",
    "    while(s<=e):\n",
    "        mid = int((s+e)/2)\n",
    "        if(lista[mid]==key):\n",
    "            print(mid)\n",
    "            break\n",
    "        elif(lista[mid]>key):\n",
    "            e=mid-1\n",
    "        else:\n",
    "            s=mid+1\n",
    "            \n",
    "binarySearch(list1,55)"
   ]
  },
  {
   "cell_type": "code",
   "execution_count": null,
   "id": "0222bcad",
   "metadata": {},
   "outputs": [],
   "source": [
    "# list in a list => 2D Array\n",
    "list1=[1,2,3,4,[5,6,7],8,9,10]\n",
    "print(list1[4][1])"
   ]
  },
  {
   "cell_type": "code",
   "execution_count": null,
   "id": "d46c9716",
   "metadata": {},
   "outputs": [],
   "source": [
    "#program to remove repetitive numbers from the list\n",
    "list1=[1,2,3,4,5,6,7,8,9,10,6,6,6,6]\n",
    "list1.remove(8)\n",
    "list1.remove(6)    # Removes only one 6, not all 6\n",
    "\n",
    "print(list1)"
   ]
  },
  {
   "cell_type": "code",
   "execution_count": null,
   "id": "c09fb2a8",
   "metadata": {},
   "outputs": [],
   "source": [
    "\n",
    "list1=[1, 2, 3, 4, 5,6,7,[],8, 9,[], 10, 6,[],6]\n",
    "\n",
    "def remove(ele):\n",
    "    for i in list1:\n",
    "        if(i==ele):\n",
    "            list1.remove(ele)\n",
    "        \n",
    "    return list1\n",
    "print(remove(6))\n",
    "print(remove([]))      # That means, the updated list is finally saved and next operation continues with the updated list\n"
   ]
  },
  {
   "cell_type": "code",
   "execution_count": null,
   "id": "f96d53c9",
   "metadata": {},
   "outputs": [],
   "source": [
    "#identify and remove repetitive elements\n",
    "list1=[1, 2, 3, 4, 5,6,7,[],8, 9,[], 10, 6,[],6]\n",
    "ars = [10, 20, 20, 10, 10, 30, 50, 10, 20]\n",
    "def repet(ar):\n",
    "    listb = []\n",
    "    for i in ar:\n",
    "        if(ar.count(i)==1):\n",
    "            listb.append(i)\n",
    "        else:\n",
    "            if(i in listb):\n",
    "                continue\n",
    "            else:\n",
    "                listb.append(i)\n",
    "    return listb\n",
    "    \n",
    "print(repet(list1))\n",
    "print(repet(ars))\n",
    "\n",
    "        \n"
   ]
  },
  {
   "cell_type": "code",
   "execution_count": null,
   "id": "2ed93cdd",
   "metadata": {},
   "outputs": [],
   "source": [
    "# value counts\n",
    "\n",
    "lista = [1,1,1,2,4,5,2,5,4,1,5,6,7]\n",
    "\n",
    "res = {key: lista.count(key) for key in lista}\n",
    "\n",
    "res"
   ]
  },
  {
   "cell_type": "code",
   "execution_count": null,
   "id": "49af72c8",
   "metadata": {},
   "outputs": [],
   "source": [
    "#5 To check whether a no. is present in the list or not\n",
    "list1=[10,20,4,6]\n",
    "\n",
    "def inlist(lista,n):\n",
    "    if n in lista:\n",
    "        return \"yes\" \n",
    "    else:\n",
    "        return \"no\"\n",
    "print(inlist(list1,6))            \n",
    "print(inlist(list1,8))  "
   ]
  },
  {
   "cell_type": "code",
   "execution_count": null,
   "id": "663da6b3",
   "metadata": {},
   "outputs": [],
   "source": [
    "#program to interchange first and last elements in a list\n",
    "list1=[1,2,3,4,5,6,7]\n",
    "\n",
    "def interchange(lista):\n",
    "    n=len(lista)\n",
    "    temp=lista[0]\n",
    "    lista[0]=lista[n-1]     #Here you can write lista[-1] instead of lista[n-1] as both are the same\n",
    "    lista[n-1]=temp\n",
    "    return lista\n",
    "\n",
    "interchange(list1)\n",
    "    "
   ]
  },
  {
   "cell_type": "code",
   "execution_count": null,
   "id": "fa486cc5",
   "metadata": {},
   "outputs": [],
   "source": [
    "#program to swap two elements in a list at positions p1 and p2 [i.e, p1 and p2 are index no. of the elements]\n",
    "# Method 1\n",
    "list1=[1,2,3,4,5,6,7]\n",
    "\n",
    "def swap(lista,p1,p2):\n",
    "    temp=lista[p1]\n",
    "    lista[p1]=lista[p2]\n",
    "    lista[p2]= temp\n",
    "    return lista\n",
    "\n",
    "print(swap(list1,2,5))\n",
    "print(\"\\n\")\n",
    "print(\"NOTE: Whenever swapping or interchanging problems arise, use temp=a; a=b; b=temp \")\n",
    "print(\"\\n\")"
   ]
  },
  {
   "cell_type": "code",
   "execution_count": null,
   "id": "428525fb",
   "metadata": {},
   "outputs": [],
   "source": [
    "# Method 2\n",
    "list1=[1,2,3,4,5,6,7]\n",
    "\n",
    "def swap(lista,p1,p2): \n",
    "    lista[p1],lista[p2] = lista[p2],lista[p1]       # IMP Step\n",
    "    return lista\n",
    "\n",
    "print(swap(list1,2,5))"
   ]
  },
  {
   "cell_type": "code",
   "execution_count": null,
   "id": "1e699772",
   "metadata": {},
   "outputs": [],
   "source": [
    "# program to find 2nd largest no. in the list\n",
    "#METHOD:1 sorting the list and printing the number in the index((n-2) or (-2))\n",
    "list1=[10,23,43,64,15,46,27]\n",
    "\n",
    "def max2(lista):\n",
    "    n=len(lista)\n",
    "    list1.sort()\n",
    "    return lista[n-2]\n",
    "\n",
    "max2(list1)\n"
   ]
  },
  {
   "cell_type": "code",
   "execution_count": null,
   "id": "4a459ef6",
   "metadata": {},
   "outputs": [],
   "source": [
    "#METHOD:2 removing the max. no in the list and finding max in the new list\n",
    "list1=[10,23,43,64,15,46,27]\n",
    "\n",
    "def maxy2(lista):\n",
    "    a=max(lista)\n",
    "    lista.remove(a)\n",
    "    b=max(lista)\n",
    "    return b\n",
    "\n",
    "maxy2(list1)"
   ]
  },
  {
   "cell_type": "code",
   "execution_count": null,
   "id": "bf7f4fa3",
   "metadata": {},
   "outputs": [],
   "source": [
    "#program to find m largest numbers in a list\n",
    "list1=[10,23,43,64,15,46,27]\n",
    "def large(lista,m):\n",
    "    n=len(lista)\n",
    "    list1.sort()\n",
    "    a=list1[(n-m):(n)]    # THIS IS IMPORTANT (TRICK IN NOTES, HOW THE OUTPUT WILL BE FOR A RANGE)\n",
    "    return a\n",
    "large(list1,3)"
   ]
  },
  {
   "cell_type": "code",
   "execution_count": null,
   "id": "12735868",
   "metadata": {},
   "outputs": [],
   "source": [
    "# ARRAY LEFT ROTATION: program for array rotation contatining n elements by d elements Ex.: [1,2,3,4,5,6] -> [3,4,5,6,1,2] when rotated by 2 elements\n",
    "list1=[1,2,3,4,5,6,7]\n",
    "\n",
    "def rotation(d):\n",
    "    list2=[]\n",
    "    n=len(list1)\n",
    "    for i in list1[d:n]:    \n",
    "        list2.append(i)\n",
    "    for j in list1[0:d]:\n",
    "            list2.append(j)\n",
    "    return list2\n",
    "    \n",
    "\n",
    "print(rotation(2))\n",
    "\n",
    "print(\"\\nNOTE: Always use append() instead of insert() in these kind of problems\\n\")"
   ]
  },
  {
   "cell_type": "code",
   "execution_count": null,
   "id": "4a6a08ac",
   "metadata": {},
   "outputs": [],
   "source": [
    "# program to print even and  no.s in a list\n",
    "list1=[10,23,43,64,15,46,27]\n",
    "\n",
    "def evenodd(lista):\n",
    "    even_list=[]\n",
    "    odd_list =[]\n",
    "    for i in list1:\n",
    "        if(i%2==0):\n",
    "            even_list.append(i)\n",
    "        else:\n",
    "            odd_list.append(i)\n",
    "    print(\"even list is :\",even_list)\n",
    "    return (\"odd list is: \",odd_list)\n",
    "\n",
    "print(evenodd(list1))\n",
    "\n",
    "print(\"\\nNOTE: Always use append() instead of insert() in these kind of problems\\n\")"
   ]
  },
  {
   "cell_type": "code",
   "execution_count": null,
   "id": "84669d4e",
   "metadata": {},
   "outputs": [],
   "source": [
    "# program to print positive and negative no.s in a list\n",
    "list1=[-10,23,-43,64,-15,46,-27]\n",
    "\n",
    "def posne(lista):             # can be done using lambda as well\n",
    "    pos_list=[]\n",
    "    ne_list =[]\n",
    "    for i in list1:\n",
    "        if(i>0):\n",
    "            pos_list.append(i)\n",
    "        if(i<0):\n",
    "            ne_list.append(i)\n",
    "    print(\"positive list is \",pos_list)\n",
    "    return (\"negetive list is\",ne_list)\n",
    "\n",
    "print(posne(list1))\n",
    "\n",
    "print(\"\\nNOTE: Always use append() instead of insert() in these kind of problems\\n\")"
   ]
  },
  {
   "cell_type": "code",
   "execution_count": null,
   "id": "ae46f52a",
   "metadata": {},
   "outputs": [],
   "source": [
    "#program to split the array and add the first part to the end\n",
    "\n",
    "list1 = [12,10,5,6,52,36] \n",
    "k=2\n",
    "\n",
    "def splad(lista,k):\n",
    "    n = len(lista)\n",
    "    x = lista[k:] + lista[:k]\n",
    "    return x\n",
    "\n",
    "splad (list1,k)\n",
    "    "
   ]
  },
  {
   "cell_type": "code",
   "execution_count": null,
   "id": "ad23f187",
   "metadata": {},
   "outputs": [],
   "source": [
    "# Sorting Reverse \n",
    "\n",
    "cars = ['Ford', 'BMW', 'Volvo', \"Audi\"]\n",
    "\n",
    "cars.sort(reverse=True)\n",
    "cars"
   ]
  },
  {
   "cell_type": "code",
   "execution_count": null,
   "id": "51d2cf46",
   "metadata": {},
   "outputs": [],
   "source": [
    "# Sorting Reverse \n",
    "\n",
    "def myFunc(e):\n",
    "    return len(e)\n",
    "\n",
    "cars = ['Ford', 'BMW', 'Volvo', \"Audi\"]\n",
    "\n",
    "cars.sort(reverse=True|False, key=myFunc)\n",
    "cars"
   ]
  },
  {
   "cell_type": "code",
   "execution_count": null,
   "id": "341a0266",
   "metadata": {},
   "outputs": [],
   "source": [
    "# A function to specify the sorting criteria(s)\n",
    "\n",
    "def myFunc(e):\n",
    "    return len(e)\n",
    "\n",
    "cars = ['Ford', 'Mitsubishi', 'BMW', 'VW', \"Audi\"]\n",
    "\n",
    "cars.sort(key=myFunc)\n",
    "\n",
    "print(cars)"
   ]
  },
  {
   "cell_type": "code",
   "execution_count": null,
   "id": "e74f562b",
   "metadata": {},
   "outputs": [],
   "source": [
    "v = [1,2,3,4]"
   ]
  },
  {
   "cell_type": "code",
   "execution_count": null,
   "id": "f40c7940",
   "metadata": {},
   "outputs": [],
   "source": [
    "### program to check if the array is monotonic, i.e, monotonically increasing or decreasing order of elements\n",
    "\n",
    "list1=[6,5,4,4]\n",
    "list2=[5,15,20,10]\n",
    "list3=[4,4,5,6]\n",
    "\n",
    "def isMono(lista):\n",
    "    n = len(lista)\n",
    "    if(all(lista[i] <=lista[i+1] for i in range(0,n-1))):\n",
    "        z = \"Yes\"\n",
    "    elif(all(lista[i] >=lista[i+1] for i in range(0,n-1))):\n",
    "        z = \"Yes\"\n",
    "    else:\n",
    "        z = \"No\"\n",
    "    return z\n",
    "\n",
    "print(isMono(list1))\n",
    "print(isMono(list2))\n",
    "print(isMono(list3))"
   ]
  },
  {
   "cell_type": "code",
   "execution_count": null,
   "id": "95287107",
   "metadata": {},
   "outputs": [],
   "source": [
    "#program to print duplicates from a list  [as in, print a new list which contains repeating(occuring more than once) elements in the old list]\n",
    "\n",
    "list1=[-1,-1,-1,8]\n",
    "list2=[10,20,30,20,20,30,40,50,-20,60,60,-20,-20]\n",
    "\n",
    "def dup(lista):\n",
    "    new_list=[]\n",
    "    for i in lista:\n",
    "        if(lista.count(i)>=2 and i not in new_list):   #i not in new_list will print my recurring number only once\n",
    "            new_list.append(i)\n",
    "    return new_list\n",
    "\n",
    "print(dup(list1))\n",
    "print(dup(list2))"
   ]
  },
  {
   "cell_type": "code",
   "execution_count": null,
   "id": "43eb3e7a",
   "metadata": {},
   "outputs": [],
   "source": [
    "# print maximum number till ith element\n",
    "list1 = [1,0,5,4,6,8]\n",
    "\n",
    "def maxZ (lista):\n",
    "    listb=[]\n",
    "    n =len(lista)\n",
    "    i=1\n",
    "    while(i<n+1):\n",
    "        x =max(lista[0:i])\n",
    "        listb.append(x)\n",
    "        i=i+1\n",
    "    return listb\n",
    "maxZ(list1)"
   ]
  },
  {
   "cell_type": "code",
   "execution_count": null,
   "id": "83d19a36",
   "metadata": {},
   "outputs": [],
   "source": [
    "# program to find cumulative sum of a list and put the ouputs in new list\n",
    "#METHOD 1\n",
    "list1=[1,2,4,1,3,4,6]\n",
    "# req. output: cumulative no.s= [1,3,7,8,11,15,21]\n",
    "\n",
    "def cum(lista):\n",
    "    cum_list=[]\n",
    "    j=0\n",
    "    for i in lista:\n",
    "        j=j+i\n",
    "        cum_list.append(j)\n",
    "    return cum_list\n",
    "cum(list1)\n",
    "        "
   ]
  },
  {
   "cell_type": "code",
   "execution_count": null,
   "id": "2bd7172a",
   "metadata": {},
   "outputs": [],
   "source": [
    "#METHOD 2\n",
    "list1=[1,2,4,1,3,4,6]\n",
    "# req. output: cumulative no.s= [1,3,7,8,11,15,21]\n",
    "\n",
    "def cum(lista):\n",
    "    i=1\n",
    "    m=len(lista) \n",
    "    cum_list=[lista[0]]    # since 1st cumulative value is same as the first value\n",
    "    while(i<m):\n",
    "        j=cum_list[-1]+lista[i]  #here we are adding the latest element in cumulative list(i.e, -1 element) to the ith element\n",
    "        cum_list.append(j)\n",
    "        i=i+1\n",
    "    return cum_list\n",
    "cum(list1)\n",
    "        "
   ]
  },
  {
   "cell_type": "code",
   "execution_count": null,
   "id": "86c62ee5",
   "metadata": {},
   "outputs": [],
   "source": [
    "#program to print sum of digits of every element in the list in new list [Ex.[21,67]->[2+1=3,6+7=13]->[3,13]]\n",
    "\n",
    "list1=[12,67,98,34]\n",
    "#req. output=[3,13,17,7]\n",
    "\n",
    "def digsum(lista):\n",
    "    diglist=[]\n",
    "    for i in lista:\n",
    "        sum=0\n",
    "        for digit in str(i):\n",
    "            sum=sum+int(digit)\n",
    "        diglist.append(sum)\n",
    "    return diglist\n",
    "        \n",
    "\n",
    "digsum(list1)\n",
    "        \n",
    "\n",
    "##IMPORTANT"
   ]
  },
  {
   "cell_type": "code",
   "execution_count": null,
   "id": "57c8c87c",
   "metadata": {},
   "outputs": [],
   "source": [
    "# program to break the list into chunks of size m\n",
    "list1=[1,2,3,4,5,6,7,8,9,10]\n",
    "\n",
    "def chunks(lista,m):\n",
    "    n= len(lista)\n",
    "    listb=[]\n",
    "    i=0\n",
    "    for i in range(0,n,m):\n",
    "        chunk=lista[i:(i+m)]\n",
    "        listb.append(chunk)\n",
    "    return listb\n",
    "chunks(list1,4)\n",
    "\n"
   ]
  },
  {
   "cell_type": "code",
   "execution_count": null,
   "id": "9c3ca1b1",
   "metadata": {},
   "outputs": [],
   "source": [
    "# print all subarrays\n",
    "list1 = [1,2,3,4]\n",
    "\n",
    "def subAr(lista):\n",
    "    n = len(lista)\n",
    "    for i in range (n):\n",
    "        for j in range(i+1,n+1):\n",
    "            print(lista[i:j])\n",
    "\n",
    "subAr(list1)\n",
    "    \n",
    "        \n",
    "        "
   ]
  },
  {
   "cell_type": "code",
   "execution_count": null,
   "id": "ae185980",
   "metadata": {},
   "outputs": [],
   "source": [
    "# print sums all subarrays\n",
    "list1 = [1,2,3,4]\n",
    "\n",
    "def subArSum(lista):\n",
    "    n = len(lista)\n",
    "    for i in range (n):\n",
    "        for j in range(i+1,n+1):\n",
    "            k=lista[i:j]\n",
    "            print(sum(k))\n",
    "\n",
    "subArSum(list1)\n",
    "    "
   ]
  },
  {
   "cell_type": "code",
   "execution_count": null,
   "id": "d3745160",
   "metadata": {},
   "outputs": [],
   "source": [
    "#program to sort the values of 1st list using 2nd list\n",
    "list1=[\"a\",\"b\",\"c\",\"d\",\"e\",\"f\",\"g\",\"h\",\"i\"]\n",
    "list2=[0,1,1,0,1,2,2,0,1]\n",
    "\n",
    "def sortab(lista,listb):\n",
    "    i=0\n",
    "    j=0\n",
    "    zip(lista,listb)\n",
    "    listb.sort()\n",
    "\n",
    "sortab(list1,list2)\n",
    "\n",
    "def sortab(lista,listb):\n",
    "    zipped_pairs=zip(lista,listb)\n",
    "    z= (x for _, x in sorted(zipped_pairs))\n",
    "    return z\n",
    "\n",
    "sortab(list1,list2)"
   ]
  },
  {
   "cell_type": "code",
   "execution_count": null,
   "id": "14176060",
   "metadata": {},
   "outputs": [],
   "source": [
    "# Sorting of arrays USING ALGORITHMS\n",
    "#1. Selection sort : find the min element in array and swap it with 1st element of the array\n",
    "\n",
    "list1 = [77,44,1,23,55,34,21,90]\n",
    "\n",
    "def selSort(lista):\n",
    "    n= len(lista)\n",
    "    for i in range(0,n-1):\n",
    "        for j in range(i+1,n):\n",
    "            if(lista[j]<lista[i]):\n",
    "                lista[i],lista[j]=lista[j],lista[i]     #swapping\n",
    "                \n",
    "    return lista\n",
    "\n",
    "selSort(list1)\n",
    "            "
   ]
  },
  {
   "cell_type": "code",
   "execution_count": null,
   "id": "d7dae37d",
   "metadata": {},
   "outputs": [],
   "source": [
    "#2. Bubble sort : repeatedly swap ith adjacent elements if they are in wrong order\n",
    "\n",
    "list1 = [77,44,1,23,55,34,21,90]\n",
    "\n",
    "def bubSort(lista):\n",
    "    n= len(lista)\n",
    "    counter=1\n",
    "    while(counter<n):\n",
    "        for i in range(0,n-counter):\n",
    "            if(lista[i]>lista[i+1]):\n",
    "                lista[i],lista[i+1] = lista[i+1],lista[i]\n",
    "        counter= counter +1 \n",
    "            \n",
    "    return lista\n",
    "\n",
    "bubSort(list1)"
   ]
  },
  {
   "cell_type": "code",
   "execution_count": null,
   "id": "f2b9f88c",
   "metadata": {},
   "outputs": [],
   "source": [
    "#3. Insertion sort : Insert the element from unsorted array to it's correct position in sorted array, and we start from 2nd element\n",
    "\n",
    "list1 = [77,44,1,23,55,34,21,90]\n",
    "\n",
    "def insSort(lista):\n",
    "    n= len(lista)\n",
    "    for i in range (1,n):                   #since we are starting from 2nd elemment (i.e, index =1)\n",
    "        current = lista[i]\n",
    "        j= i-1\n",
    "        while (lista[j]>current and j>=0):\n",
    "            lista[j+1]=lista[j]\n",
    "            j=j-1\n",
    "        lista[j+1]=current\n",
    "        \n",
    "    return lista\n",
    "\n",
    "insSort(list1)"
   ]
  },
  {
   "cell_type": "markdown",
   "id": "b29380fb",
   "metadata": {},
   "source": [
    "## Strings "
   ]
  },
  {
   "cell_type": "code",
   "execution_count": null,
   "id": "6787159d",
   "metadata": {},
   "outputs": [],
   "source": [
    "# list to no. and no. to list   # variations in strings and no.s\n",
    "a = 234\n",
    "b = \"kjl\"\n",
    "c= [5,7,8,9]\n",
    "d = [\"a\",\"b\",\"c\"]\n",
    "x =[int(i) for i in str(a)]       # string to list\n",
    "y =[i for i in b]                 # no. to list\n",
    "print(x)\n",
    "print(y)\n",
    "\n",
    "sum=\"0\"\n",
    "for i in c:\n",
    "    i= str(i)\n",
    "    sum=sum+i\n",
    "print(sum[1:])                    # list to no.\n",
    "\n",
    "w= \"\".join(d)                     # list to string\n",
    "print(w)"
   ]
  },
  {
   "cell_type": "code",
   "execution_count": null,
   "id": "986317f7",
   "metadata": {},
   "outputs": [],
   "source": [
    "# Check for palindrome\n",
    "\n",
    "def isPali(string):\n",
    "    n=len(string)\n",
    "    lista=[]\n",
    "    for i in string:\n",
    "        lista.append(i)\n",
    "        \n",
    "    for j in range (1,n):\n",
    "        if(lista[j-1]==lista[-j]):\n",
    "            print(\"is palindrome\")\n",
    "            break\n",
    "        else:\n",
    "            print(\"is not pali\")\n",
    "            break\n",
    "            \n",
    "            \n",
    "isPali(\"madam\")\n",
    "    \n",
    "        \n",
    "        "
   ]
  },
  {
   "cell_type": "code",
   "execution_count": null,
   "id": "449a17de",
   "metadata": {},
   "outputs": [],
   "source": [
    "ad=\"happy\"\n",
    "lis=[]\n",
    "for i in ad:\n",
    "    lis.append(i)\n",
    "print(lis[0])"
   ]
  },
  {
   "cell_type": "code",
   "execution_count": null,
   "id": "e85282ff",
   "metadata": {},
   "outputs": [],
   "source": [
    "# Check if string is symmeticral(Ex.: khokho, yoyo) or palindrome or none\n",
    "\n",
    "def stringType(string):\n",
    "    n = len(string)\n",
    "    lista=[]\n",
    "    for i in string:\n",
    "        lista.append(i)\n",
    "        \n",
    "    for j in range (1,n):\n",
    "        if(n%2 ==0):\n",
    "            for k in range (n//2,n-1):\n",
    "                if(lista[j-1]==lista[-j] and lista[j-1]==lista[k]):\n",
    "                    print(\"is both pali and sy\")\n",
    "                elif(lista[j-1]==lista[k]):\n",
    "                    print(\"is symmetric alone\")\n",
    "            break\n",
    "        elif(lista[j-1]==lista[-j]):\n",
    "            print(\"is palindrome alone\")\n",
    "            break\n",
    "        else:\n",
    "            print(\"none\")\n",
    "            break\n",
    "        \n",
    "            \n",
    "stringType(\"madam\")\n",
    "stringType(\"yoyo\")\n",
    "stringType(\"hello\")\n",
    "stringType(\"amaama\")"
   ]
  },
  {
   "cell_type": "code",
   "execution_count": null,
   "id": "21515d49",
   "metadata": {},
   "outputs": [],
   "source": [
    "# word count in a string\n",
    "def wordc(string):\n",
    "    count = 1\n",
    "    for char in string:\n",
    "        if(char ==\" \"):\n",
    "            count =count+1\n",
    "    print(count)\n",
    "\n",
    "wordc(\"I am happy\")\n",
    "            "
   ]
  },
  {
   "cell_type": "code",
   "execution_count": null,
   "id": "eaf8ea46",
   "metadata": {},
   "outputs": [],
   "source": [
    "# words in a string\n",
    "\n",
    "def wordstr(string):\n",
    "    words = string.split(\" \")\n",
    "    print(words)\n",
    "    \n",
    "wordstr(\"I am happy\")\n"
   ]
  },
  {
   "cell_type": "code",
   "execution_count": null,
   "id": "1f7d225d",
   "metadata": {},
   "outputs": [],
   "source": [
    "# revesing a single word string\n",
    "\n",
    "def rev(string):\n",
    "    n=len(string)\n",
    "    lista=[]\n",
    "    for char in string:\n",
    "        lista.append(char)\n",
    "    lista.reverse()\n",
    "    a = \"\".join(lista)\n",
    "    print(a)\n",
    "    \n",
    "\n",
    "rev(\"occasion\")\n",
    "rev(\"home\")\n",
    "rev(\"1234\")"
   ]
  },
  {
   "cell_type": "code",
   "execution_count": null,
   "id": "174189bb",
   "metadata": {},
   "outputs": [],
   "source": [
    "#Method-2: \n",
    "# revesing a single word string\n",
    "s = 'occasion'\n",
    "s=s[::-1]\n",
    "print(s)"
   ]
  },
  {
   "cell_type": "code",
   "execution_count": null,
   "id": "ef7cf736",
   "metadata": {},
   "outputs": [],
   "source": [
    "# reversing a multiple word string (Ex: I am happy -> happy am I)\n",
    "\n",
    "def wordrev(string):\n",
    "    words = string.split(\" \")\n",
    "    words.reverse()\n",
    "    a = \" \".join(words)\n",
    "    print(str(a))\n",
    "\n",
    "wordrev(\"I am happy\")   "
   ]
  },
  {
   "cell_type": "code",
   "execution_count": null,
   "id": "04e8b927",
   "metadata": {},
   "outputs": [],
   "source": [
    "# code to remove ith character from a string\n",
    "def remov(string,i):\n",
    "    n = len(string)\n",
    "    #for char in string:\n",
    "    string = string.replace(string[i-1],\"\")\n",
    "    print(string)\n",
    "remov(\"hello\",2)"
   ]
  },
  {
   "cell_type": "code",
   "execution_count": null,
   "id": "1b8c355b",
   "metadata": {},
   "outputs": [],
   "source": [
    "# Time Conversion from 12hr to 24hr format\n",
    "def timeConversion(s):\n",
    "\n",
    "        h1 = s[0]\n",
    "        h2 = s[1]\n",
    "        hh = str(h1+h2)\n",
    " \n",
    "        for char in s:\n",
    "            if(hh == \"12\"and char == \"A\"):\n",
    "                x = \"00\"\n",
    "            elif(hh == \"12\" and char == \"P\"):\n",
    "                x = hh\n",
    "            elif(char == \"P\"):\n",
    "                x = str(int(hh)+12)\n",
    "            elif (char == \"A\"):\n",
    "                x =hh\n",
    "        y = s.replace(s[:2],x)\n",
    "\n",
    "        print(y[:8])\n",
    "        \n",
    "    \n",
    "timeConversion(\"07:05:45PM\")\n",
    "timeConversion(\"12:00:00AM\")\n",
    "timeConversion(\"12:05:45PM\")\n",
    "timeConversion(\"07:05:45AM\")\n",
    "timeConversion(\"11:05:45PM\")"
   ]
  },
  {
   "cell_type": "code",
   "execution_count": null,
   "id": "d66c995e",
   "metadata": {},
   "outputs": [],
   "source": [
    "\n",
    "    fptr.write(result + '\\n')\n",
    "\n",
    "    fptr.close()"
   ]
  },
  {
   "cell_type": "code",
   "execution_count": null,
   "id": "536e08de",
   "metadata": {},
   "outputs": [],
   "source": [
    "a = 06"
   ]
  },
  {
   "cell_type": "code",
   "execution_count": null,
   "id": "8f6e7449",
   "metadata": {},
   "outputs": [],
   "source": [
    "# check if the sentence is panagram or not\n",
    "\n",
    "sent = \"We promptly judged antique ivory buckles for the prize\"\n",
    "sentr = \"We promptly judged antique ivory buckles for the next prize\"\n",
    "\n",
    "def pangrams(s):\n",
    "    alphabet = 'abcdefghijklmnopqrstuvwxyz'\n",
    "    for i in alphabet:\n",
    "        if i not in s.lower():\n",
    "            p = \"not pangram\"\n",
    "            break\n",
    "\n",
    "        else:\n",
    "            p = \"pangram\"\n",
    "            \n",
    "    return p\n",
    "\n",
    "print(pangrams(sent))\n",
    "print(pangrams(sentr))"
   ]
  },
  {
   "cell_type": "code",
   "execution_count": null,
   "id": "6f4851d0",
   "metadata": {},
   "outputs": [],
   "source": [
    "#DICTIONARY    # MORE PROBLEMS ON DICTIONARIES ARE THERE BELOW\n",
    "\n",
    "s = \"i am happy, i am happy\"\n",
    "\n",
    "res = {key: s.count(key) for key in s}\n",
    "\n",
    "res"
   ]
  },
  {
   "cell_type": "code",
   "execution_count": null,
   "id": "ab166eda",
   "metadata": {},
   "outputs": [],
   "source": [
    "s = \"i am happy, i am happy\"\n",
    "\n",
    "res = {key: s.count(key) for key in s.split(\" \")}\n",
    "\n",
    "res"
   ]
  },
  {
   "cell_type": "code",
   "execution_count": null,
   "id": "ff756607",
   "metadata": {},
   "outputs": [],
   "source": [
    "#SETS \n",
    "\n",
    "v = set(\"aeiou\")\n",
    "print(v)\n",
    "\n",
    "for i in v:\n",
    "    print(i*2, end = \" \")"
   ]
  },
  {
   "cell_type": "code",
   "execution_count": null,
   "id": "1f9f380a",
   "metadata": {},
   "outputs": [],
   "source": [
    "#SETS ... highly useful for ELIMINATING DUPLICATES and/or GETTING THE UNIQUE VALUES\n",
    "\n",
    "s = \"geeks for geeks\"\n",
    "\n",
    "p = (set(s))\n",
    "p"
   ]
  },
  {
   "cell_type": "code",
   "execution_count": null,
   "id": "041a1524",
   "metadata": {},
   "outputs": [],
   "source": [
    "#less and more frequent characters ... SEE THE CALLING OF DICTIONARIES\n",
    "\n",
    "s = \"i am happy, i am happy\"\n",
    "\n",
    "res = {key: s.count(key) for key in s}\n",
    "print(res)\n",
    "y = min(res.values())    #IMP\n",
    "z = max(res.values())\n",
    "print(z)\n",
    "\n",
    "#less frequently occuring value\n",
    "for key in res:\n",
    "    x = res[key]\n",
    "    if (x==y):\n",
    "        print (key)\n",
    "        \n",
    "#More frequently occuring value\n",
    "for key in res:\n",
    "    x = res[key]\n",
    "    if (x==z):\n",
    "        print (key)"
   ]
  },
  {
   "cell_type": "code",
   "execution_count": null,
   "id": "3ac90f14",
   "metadata": {},
   "outputs": [],
   "source": [
    "# To remove character ... also can be done as a[:i], b[i+1:] => a+b\n",
    "\n",
    "\n",
    "s = \"Happy bday to me\"\n",
    "\n",
    "s = s.replace(\"p\",\"\",1)  # Removing a character #if 1 is not given, by default all p are removed\n",
    "s"
   ]
  },
  {
   "cell_type": "code",
   "execution_count": null,
   "id": "898dabfe",
   "metadata": {},
   "outputs": [],
   "source": [
    "#JOIN and SPLIT\n",
    "\n",
    "s = \"Geeks for Geeks\"\n",
    "\n",
    "s = \"\".join(s.split(\" \"))\n",
    "s"
   ]
  },
  {
   "cell_type": "code",
   "execution_count": null,
   "id": "e82c043a",
   "metadata": {},
   "outputs": [],
   "source": [
    "#TO GET PERMUTATIONS OF THE GIVEN STRING\n",
    "\n",
    "from itertools import permutations\n",
    "\n",
    "s = \"ABC\"\n",
    "\n",
    "x = permutations(s)\n",
    "\n",
    "count = 0\n",
    "\n",
    "for i in x:\n",
    "    count = count +1\n",
    "    print(\"\".join(i), end = \" \")\n",
    "    \n",
    "print(count)"
   ]
  },
  {
   "cell_type": "code",
   "execution_count": null,
   "id": "a610f708",
   "metadata": {},
   "outputs": [],
   "source": [
    "#TO GET PERMUTATIONS OF THE GIVEN STRING AND ITS SUBSTRING ... like a,b,c,ab,bc,ca,abc \n",
    "\n",
    "from itertools import combinations\n",
    "\n",
    "s = \"ABC\"\n",
    "\n",
    "g = set(s)\n",
    "l = len(g)\n",
    "count = 0\n",
    "for i in range(l+1):\n",
    "    x = combinations(g,i)\n",
    "    \n",
    "    for j in x:\n",
    "        count = count +1\n",
    "        print(\"\".join(j), end = \" \")\n",
    "    \n",
    "print(count)\n",
    "\n",
    "\n",
    "#NOTE: from itertools import combinations_with_replacement # like aa,bb,cc are also included "
   ]
  },
  {
   "cell_type": "code",
   "execution_count": null,
   "id": "f76d3c8e",
   "metadata": {},
   "outputs": [],
   "source": []
  },
  {
   "cell_type": "code",
   "execution_count": null,
   "id": "ab188606",
   "metadata": {},
   "outputs": [],
   "source": []
  },
  {
   "cell_type": "code",
   "execution_count": null,
   "id": "ebdd25db",
   "metadata": {},
   "outputs": [],
   "source": []
  },
  {
   "cell_type": "code",
   "execution_count": null,
   "id": "bd4ef456",
   "metadata": {},
   "outputs": [],
   "source": []
  },
  {
   "cell_type": "code",
   "execution_count": null,
   "id": "b9e6ebcb",
   "metadata": {},
   "outputs": [],
   "source": []
  },
  {
   "cell_type": "markdown",
   "id": "6c846cd8",
   "metadata": {},
   "source": [
    "### Pattern problems"
   ]
  },
  {
   "cell_type": "code",
   "execution_count": null,
   "id": "ae935c12",
   "metadata": {},
   "outputs": [],
   "source": [
    "# print a rectangle of lxb size\n",
    "def rect(l,b):      # l= no. of rows   b= no. of cols\n",
    "    for i in range(1,l+1):\n",
    "        for j in range(1,b+1):\n",
    "            print(\"*\", end=\" \")    # to print them horizontally, we use end =\" \"\n",
    "        print(\" \")                 # to go to next line\n",
    "\n",
    "\n",
    "rect(5,3)"
   ]
  },
  {
   "cell_type": "code",
   "execution_count": null,
   "id": "89818e0c",
   "metadata": {},
   "outputs": [],
   "source": [
    "# print hollow rectangle\n",
    "def hrect(l,b):\n",
    "    for i in range(1,l+1):\n",
    "            for j in range(1,b+1):\n",
    "                if(i==1 or i==l or j==1 or j==b):\n",
    "                    print(\"*\", end=\" \")\n",
    "                else:\n",
    "                    print(\" \", end=\" \")\n",
    "                    \n",
    "            print(\" \")\n",
    "            \n",
    "hrect(5,3)"
   ]
  },
  {
   "cell_type": "code",
   "execution_count": null,
   "id": "7821d8a3",
   "metadata": {},
   "outputs": [],
   "source": [
    "# print right angle triangle, inverted triangle, 180 degrees rotated triangle\n",
    "def tri(n):\n",
    "    for i in range(1,n+1):\n",
    "        for j in range(1,i+1):\n",
    "            print(\"*\", end=\" \")\n",
    "        print(\" \")\n",
    "\n",
    "def itri(n):\n",
    "    for i in range(1,n+1):\n",
    "        for j in range(i,n+1):\n",
    "            print(\"*\", end=\" \")\n",
    "        print(\" \")\n",
    "\n",
    "def rtri(n):\n",
    "    for i in range(1,n+1):\n",
    "        for j in range (1,n+1):\n",
    "                if(j<= n-i):\n",
    "                    print(\" \",end = \" \")\n",
    "                else:\n",
    "                    print(\"*\", end = \" \")\n",
    "        print(\" \")\n",
    "                \n",
    "        \n",
    "\n",
    "def rrtri(n):\n",
    "    for i in range (1,n+1):\n",
    "        for j in range (1,n+1):\n",
    "            if(i in range (2,n+1) and (j<=i-1)):\n",
    "                print(\" \", end = \" \")\n",
    "            else:\n",
    "                print(\"*\", end=\" \")\n",
    "           \n",
    "        print(\" \")\n",
    "            \n",
    "\n",
    "tri(5)\n",
    "print(\"\\n\")\n",
    "itri(5)\n",
    "print(\"\\n\")\n",
    "rtri(5)\n",
    "print(\"\\n\")\n",
    "rrtri(5)"
   ]
  },
  {
   "cell_type": "code",
   "execution_count": null,
   "id": "be35a494",
   "metadata": {},
   "outputs": [],
   "source": [
    "# print triangle\n",
    "\n",
    "def tria(n):           # n= no. of rows\n",
    "    for i in range(1,n+1):\n",
    "        for j in range (1,(2*n)):\n",
    "            if((j<=n-i or j>=n+i)):\n",
    "                print(\" \", end =\" \")\n",
    "            else:\n",
    "                print(\"*\",end= \" \")\n",
    "            \n",
    "        print(\" \")\n",
    "tria(5)\n"
   ]
  },
  {
   "cell_type": "code",
   "execution_count": null,
   "id": "e8420142",
   "metadata": {},
   "outputs": [],
   "source": [
    "# print diamond\n",
    "\n",
    "def tria(n):           \n",
    "    for i in range(1,2*n):\n",
    "        for j in range (1,(2*n)):\n",
    "            if((j<=n-i or j>=n+i)):\n",
    "                print(\" \", end =\" \")\n",
    "            elif((i<=n-j or i>=n+j)):\n",
    "                print(\" \", end =\" \")\n",
    "            else:\n",
    "                print(\"*\",end= \" \")\n",
    "            \n",
    "        print(\" \")\n",
    "tria(5)"
   ]
  },
  {
   "cell_type": "code",
   "execution_count": null,
   "id": "6426c641",
   "metadata": {},
   "outputs": [],
   "source": [
    "# hollow diamond\n",
    "\n",
    "def tria(n):           \n",
    "    for i in range(1,2*n):\n",
    "        for j in range (1,(2*n)):\n",
    "            if((j<=n-i or j>=n+i)):\n",
    "                print(\" \", end =\" \")\n",
    "            elif((i<=n-j or i>=n+j)):\n",
    "                print(\" \", end =\" \")\n",
    "            else:\n",
    "                print(\"*\",end= \" \")\n",
    "            \n",
    "        print(\" \")\n",
    "tria(5)"
   ]
  },
  {
   "cell_type": "code",
   "execution_count": null,
   "id": "13d554a1",
   "metadata": {},
   "outputs": [],
   "source": [
    "# hollow diamond inscribed in a rectangle\n",
    "\n",
    "def tria(n):           \n",
    "    for i in range(1,2*n):\n",
    "        for j in range (1,(2*n)):\n",
    "            if((j<=n-i or j>=n+i)):\n",
    "                print(\" \", end =\" \")\n",
    "            elif((i<=n-j or i>=n+j)):\n",
    "                print(\" \", end =\" \")\n",
    "            else:\n",
    "                print(\"*\",end= \" \")\n",
    "            \n",
    "        print(\" \")\n",
    "tria(5)"
   ]
  },
  {
   "cell_type": "code",
   "execution_count": null,
   "id": "257a3053",
   "metadata": {},
   "outputs": [],
   "source": [
    "# print solid rhombus"
   ]
  },
  {
   "cell_type": "code",
   "execution_count": null,
   "id": "fade10de",
   "metadata": {},
   "outputs": [],
   "source": [
    "# print hollow rhombus"
   ]
  },
  {
   "cell_type": "code",
   "execution_count": null,
   "id": "647c66a0",
   "metadata": {},
   "outputs": [],
   "source": [
    "# print solid butterfly"
   ]
  },
  {
   "cell_type": "code",
   "execution_count": null,
   "id": "389490bb",
   "metadata": {},
   "outputs": [],
   "source": [
    "#print hollow butterfly"
   ]
  },
  {
   "cell_type": "code",
   "execution_count": null,
   "id": "b1b47225",
   "metadata": {},
   "outputs": [],
   "source": [
    "# number triangle -1\n",
    "#method -1\n",
    "\n",
    "def tri(n):\n",
    "    for i in range(1,n+1):   \n",
    "        for j in range(i):\n",
    "            print(j+1,end=\" \")\n",
    "        print(\"\")\n",
    "tri(5)"
   ]
  },
  {
   "cell_type": "code",
   "execution_count": null,
   "id": "ff34eb8c",
   "metadata": {},
   "outputs": [],
   "source": [
    "#method-2\n",
    "\n",
    "def tri(n):\n",
    "    for i in range(1,n+1):   \n",
    "        for j in range(1,i+1):  #GET THIS BY TRAIL AND ERROR TILL YOU GET DESIRED OUTPUT\n",
    "            print(j,end=\" \")   #Since we want col no. in the place\n",
    "        print(\"\")          \n",
    "tri(5)"
   ]
  },
  {
   "cell_type": "code",
   "execution_count": null,
   "id": "d10d89c3",
   "metadata": {},
   "outputs": [],
   "source": [
    "# Number Triangle -2\n",
    "def tri(n):\n",
    "    for i in range(1,n+1):   # Since range function takes values till last but one term\n",
    "        for j in range(i):\n",
    "            print(i,end=\" \") # We want i to be printed side-by-side\n",
    "        #print(\"y\")          # The leftover places will be having \"y\", so we repalce it by \" \", to give space.This will also ensure to move to next line \n",
    "        print(\"\")\n",
    "tri(5)"
   ]
  },
  {
   "cell_type": "code",
   "execution_count": null,
   "id": "2fa20a4c",
   "metadata": {},
   "outputs": [],
   "source": [
    "# Inverted pyramid\n",
    "\n",
    "def inpy(n):\n",
    "    for i in range(1,n+1):\n",
    "        for j in range(1,n-i+2):\n",
    "            print(i,end=\" \")        \n",
    "        print(\"\")\n",
    "        \n",
    "inpy(5)"
   ]
  },
  {
   "cell_type": "code",
   "execution_count": null,
   "id": "8d5ac158",
   "metadata": {},
   "outputs": [],
   "source": [
    "#Method 2\n",
    "def inpyd(n):\n",
    "    for i in range(1,n+1):\n",
    "        for j in range(n,i-1,-1):  \n",
    "            print(i,end=\" \")        \n",
    "        print(\"\")\n",
    "        \n",
    "inpyd(5)"
   ]
  },
  {
   "cell_type": "code",
   "execution_count": null,
   "id": "60c30b0c",
   "metadata": {},
   "outputs": [],
   "source": [
    "# Inverted pyramid with decending no.s\n",
    "def inpyd(n):\n",
    "    for i in range(n,0,-1):\n",
    "        for j in range(i):\n",
    "            print(i,end=\" \")        \n",
    "        print(\"\")\n",
    "        \n",
    "inpyd(5)\n"
   ]
  },
  {
   "cell_type": "code",
   "execution_count": null,
   "id": "48392b3a",
   "metadata": {},
   "outputs": [],
   "source": [
    "#Program for reverse pyramid pattern of no.s\n",
    "def rp(n):\n",
    "    for i in range(1,n+1):\n",
    "        for j in range(i,0,-1):\n",
    "            print(j,end=\" \")        \n",
    "        print(\"\")\n",
    "        \n",
    "rp(5)\n"
   ]
  },
  {
   "cell_type": "code",
   "execution_count": null,
   "id": "7d38d753",
   "metadata": {},
   "outputs": [],
   "source": [
    "# Inverted half pyramid with decending no.s\n",
    "def ihp(n):\n",
    "    for i in range(n,0,-1):\n",
    "        for j in range(1,i+1):\n",
    "            print(j,end=\" \")        \n",
    "        print(\"\")\n",
    "        \n",
    "ihp(5)\n"
   ]
  },
  {
   "cell_type": "code",
   "execution_count": null,
   "id": "26a6907f",
   "metadata": {},
   "outputs": [],
   "source": [
    "# 0-1 pyramid\n",
    "\n",
    "def btri(n):   # n= no. of rows\n",
    "    \n",
    "    for i in range(1,n+1):\n",
    "        for j in range (1,i+1):\n",
    "            if((i+j)%2 ==0):\n",
    "                print(\"1\",end =\" \")\n",
    "            else:\n",
    "                print(\"0\", end = \" \")\n",
    "        print(\" \")\n",
    "\n",
    "btri(5)\n"
   ]
  },
  {
   "cell_type": "code",
   "execution_count": null,
   "id": "7792636c",
   "metadata": {},
   "outputs": [],
   "source": [
    "#Palindrome pyramid\n",
    "def tri(n):\n",
    "\n",
    "        for i in range(1,n+1):   \n",
    "            for j in range(1,i+1):  #GET THIS BY TRAIL AND ERROR TILL YOU GET DESIRED OUTPUT\n",
    "                print(j,end=\" \")   #Since we want col no. in the place\n",
    "            for j in range(i-1,0,-1):  \n",
    "                print(j,end=\" \") \n",
    "            print(\" \")\n",
    "        \n",
    "tri(5)"
   ]
  },
  {
   "cell_type": "code",
   "execution_count": null,
   "id": "22979265",
   "metadata": {},
   "outputs": [],
   "source": [
    "# palindrome pyramid to centre   ####CHECK\n",
    "\n",
    "def tria(n):        # n= no. of rows\n",
    "    for i in range(1,n+1):\n",
    "        for j in range (1,(2*n)):\n",
    "            if((j<=n-i or j>=n+i)):\n",
    "                print(\" \", end =\" \")\n",
    "            elif(j==n):\n",
    "                \n",
    "                print(i, end=\" \")\n",
    "            else:\n",
    "                k=i-1\n",
    "                print(k,end=\" \")\n",
    "                k=k-1 \n",
    "        print(\" \")\n",
    "tria(3)"
   ]
  },
  {
   "cell_type": "code",
   "execution_count": null,
   "id": "0e011561",
   "metadata": {},
   "outputs": [],
   "source": [
    "# floyd's triangle\n",
    "\n",
    "def ftri(n): #n= no. of rows\n",
    "    count =1\n",
    "    for i in range(1,n+1):\n",
    "        for j in range (1,i+1):\n",
    "            print(count, end =\" \")\n",
    "            count =count+1\n",
    "        print(\" \")\n",
    "\n",
    "ftri(5)\n"
   ]
  },
  {
   "cell_type": "code",
   "execution_count": null,
   "id": "1621bad7",
   "metadata": {},
   "outputs": [],
   "source": [
    "# pascal's triangle"
   ]
  },
  {
   "cell_type": "code",
   "execution_count": null,
   "id": "e546ed6a",
   "metadata": {},
   "outputs": [],
   "source": [
    "#zig zag pattern"
   ]
  },
  {
   "cell_type": "code",
   "execution_count": null,
   "id": "04ed6922",
   "metadata": {},
   "outputs": [],
   "source": [
    "# program to print the pattern \"G\" over n lines or rows\n",
    "def gpatttern(n):\n",
    "# code for \"*\"\n",
    "    if(n%2 !=0):\n",
    "        m=int((n/2)+1)\n",
    "        if(i==1 or i==n):\n",
    "            for j in range(2,(n-2)):\n",
    "                print(\"*\")\n",
    "        for i in range(2,n):\n",
    "            if(j==1):\n",
    "                print(\"*\\n\")\n",
    "        while(i==m):\n",
    "            for j in range(n-4,n-2):\n",
    "                print(\"*\")\n",
    "            while(i<=(n-1)):\n",
    "                while(j==(n-2)):\n",
    "                    print(\"*\\n\")\n",
    "                i=i+1\n",
    "gpattern(7)\n",
    "        \n",
    "        \n"
   ]
  },
  {
   "cell_type": "markdown",
   "id": "7e70455e",
   "metadata": {},
   "source": [
    "### Matrices"
   ]
  },
  {
   "cell_type": "code",
   "execution_count": null,
   "id": "9ef2bf30",
   "metadata": {},
   "outputs": [],
   "source": [
    "a = [[1,2,3],[4,5,6],[7,8,9]]\n",
    "\n",
    "for ele in a:\n",
    "    print(ele)"
   ]
  },
  {
   "cell_type": "code",
   "execution_count": null,
   "id": "872c2c67",
   "metadata": {},
   "outputs": [],
   "source": [
    "# Adding matrices without numpy\n",
    "\n",
    "a = [[1,2,3],[4,5,6],[7,8,9]]\n",
    "b = [[1,2,3],[4,5,6],[7,8,9]]\n",
    "x = [[0,0,0],[0,0,0],[0,0,0]]\n",
    "\n",
    "print(a+b)\n",
    "\n",
    "print(\"\\n\")\n",
    "\n",
    "for i in range(len(a)):\n",
    "    for j in range(len(b)):\n",
    "        x[i][j] = a[i][j] + b[i][j]          # Change + to  -,*,/  \n",
    "        \n",
    "\n",
    "print(x)  \n",
    "\n",
    "print(\"\\n\")\n",
    "\n",
    "for v in x:\n",
    "    print(v)"
   ]
  },
  {
   "cell_type": "code",
   "execution_count": null,
   "id": "a0f82266",
   "metadata": {},
   "outputs": [],
   "source": [
    "#Using numpy\n",
    "\n",
    "import numpy as np\n",
    "\n",
    "\n",
    "a = [[1,2,3],[4,5,6],[7,8,9]]\n",
    "b = [[1,2,3],[4,5,6],[7,8,9]]\n",
    "\n",
    "x = np.add(a,b)\n",
    "y = np.subtract(a,b)\n",
    "\n",
    "print(x)\n",
    "print(\"\\n\")\n",
    "print(y)\n"
   ]
  },
  {
   "cell_type": "code",
   "execution_count": null,
   "id": "16ec614d",
   "metadata": {},
   "outputs": [],
   "source": [
    "# Transpose of a matrix\n",
    "\n",
    "z = np.transpose(a)\n",
    "print(z)"
   ]
  },
  {
   "cell_type": "code",
   "execution_count": null,
   "id": "e26a9c35",
   "metadata": {},
   "outputs": [],
   "source": [
    "# Getting 3nd column of the matrix \n",
    "\n",
    "p = [sub[2] for sub in a]  #3rd => index = 2 \n",
    "p"
   ]
  },
  {
   "cell_type": "markdown",
   "id": "27a18756",
   "metadata": {},
   "source": [
    "# product of elements of the matrix\n",
    "\n",
    "\n",
    "\n",
    "\n",
    "\n"
   ]
  },
  {
   "cell_type": "markdown",
   "id": "0cc55a3d",
   "metadata": {},
   "source": [
    "### Sorting"
   ]
  },
  {
   "cell_type": "code",
   "execution_count": null,
   "id": "51e48a6a",
   "metadata": {},
   "outputs": [],
   "source": [
    "# Selection sort "
   ]
  },
  {
   "cell_type": "code",
   "execution_count": null,
   "id": "dcb33585",
   "metadata": {},
   "outputs": [],
   "source": [
    "def a32(z):\n",
    "    z=str(z)\n",
    "    m=len(z)\n",
    "    while(m<32):\n",
    "        i=\"0\"\n",
    "        z=i+z\n",
    "        m=m+1\n",
    "    return z\n",
    "def convert(n):\n",
    "    for i in (str(n)):\n",
    "        if i==\"1\":\n",
    "            n=i.replace(\"1\",\"0\")\n",
    "        elif i==\"0\":\n",
    "            n=i.replace(\"0\",\"1\")\n",
    "        print(n,end=\"\")\n",
    "    \n",
    "def btod(n):\n",
    "    j=0\n",
    "    lista=[]\n",
    "    a =[int(i) for i in str(n)]\n",
    "    m=len(a)\n",
    "    while(j<m):\n",
    "        x = a[j]*pow(2,(m-j-1))\n",
    "        lista.append(x)\n",
    "        j=j+1\n",
    "    summa=sum(lista)\n",
    "    return summa\n",
    "\n",
    "def flippingBits(p):\n",
    "    m = a32(p)\n",
    "    x = convert(m)\n",
    "    y = btod(x)\n",
    "    print(y)\n",
    "\n",
    "flippingBits(9)\n"
   ]
  },
  {
   "cell_type": "code",
   "execution_count": null,
   "id": "c8f51ce1",
   "metadata": {},
   "outputs": [],
   "source": []
  },
  {
   "cell_type": "code",
   "execution_count": null,
   "id": "5d932314",
   "metadata": {},
   "outputs": [],
   "source": []
  },
  {
   "cell_type": "code",
   "execution_count": null,
   "id": "b8080bd3",
   "metadata": {},
   "outputs": [],
   "source": []
  },
  {
   "cell_type": "markdown",
   "id": "4444dc8d",
   "metadata": {},
   "source": [
    "### Dictionaries"
   ]
  },
  {
   "cell_type": "code",
   "execution_count": null,
   "id": "406366b3",
   "metadata": {},
   "outputs": [],
   "source": [
    "#DICTIONARY    # MORE PROBLEMS ON DICTIONARIES ARE THERE BELOW\n",
    "\n",
    "s = \"i am happy, i am happy\"\n",
    "\n",
    "res = {key: s.count(key) for key in s}\n",
    "\n",
    "res"
   ]
  },
  {
   "cell_type": "code",
   "execution_count": null,
   "id": "57434522",
   "metadata": {},
   "outputs": [],
   "source": [
    "#less and more frequent characters ... SEE THE CALLING OF DICTIONARIES\n",
    "\n",
    "s = \"i am happy, i am happy\"\n",
    "\n",
    "res = {key: s.count(key) for key in s}\n",
    "print(res)\n",
    "y = min(res.values())    #IMP\n",
    "z = max(res.values())\n",
    "print(z)\n",
    "\n",
    "#less frequently occuring value\n",
    "for key in res:\n",
    "    x = res[key]\n",
    "    if (x==y):\n",
    "        print (key)\n",
    "        \n",
    "#More frequently occuring value\n",
    "for key in res:\n",
    "    x = res[key]\n",
    "    if (x==z):\n",
    "        print (key)"
   ]
  },
  {
   "cell_type": "code",
   "execution_count": null,
   "id": "ab31e12c",
   "metadata": {},
   "outputs": [],
   "source": [
    "#Get unique values of the dictionary  #NOTE: dict is a keyword (like list,set)\n",
    "\n",
    "dicta = {\"a\": [5,6,7,8],\n",
    "         \"b\": [10,11,7,5],\n",
    "         \"c\": [6,12,10,8],\n",
    "         \"d\": [1,2,5]}\n",
    "\n",
    "\n",
    "x =set(dicta)\n",
    "print(x)\n",
    "\n",
    "print(\"\\n\")\n",
    "\n",
    "y =dicta.values()\n",
    "print(y)\n",
    "\n",
    "print(\"\\n\")\n",
    "\n",
    "\n",
    "w = []\n",
    "for i in dicta.keys():\n",
    "    w.append(dicta[i])\n",
    "print(w)\n",
    "\n",
    "print(\"\\n\")\n",
    "\n",
    "z = []\n",
    "for i in dicta.keys():\n",
    "    z.extend(dicta[i])\n",
    "    \n",
    "z=list(set(z))\n",
    "print(z)\n",
    "\n",
    "\n",
    "#NOTE: difference between sort and sorted is  \n",
    "#NOTE: difference between append and extend is"
   ]
  },
  {
   "cell_type": "code",
   "execution_count": null,
   "id": "205c3269",
   "metadata": {},
   "outputs": [],
   "source": [
    "#Sum of values of the dictionary\n",
    "\n",
    "\n",
    "dicta = {\"a\": [5,6,7,8],\n",
    "         \"b\": [10,11,7,5],\n",
    "         \"c\": [6,12,10,8],\n",
    "         \"d\": [1,2,5]}\n",
    "\n",
    "w = []\n",
    "for i in dicta.keys():\n",
    "    w.extend(dicta[i])\n",
    "    \n",
    "print(sum(w))"
   ]
  },
  {
   "cell_type": "code",
   "execution_count": null,
   "id": "c34dc507",
   "metadata": {},
   "outputs": [],
   "source": [
    "dicta = {\"a\": [5,6,7,8],\n",
    "         \"b\": [10,11,7,5],\n",
    "         \"c\": [6,12,10,8],\n",
    "         \"d\": [1,2,5]}\n",
    "del dicta[\"c\"]          # OR dicta.pop(\"c\")\n",
    "dicta"
   ]
  },
  {
   "cell_type": "code",
   "execution_count": null,
   "id": "030886fe",
   "metadata": {},
   "outputs": [],
   "source": [
    "#Sorting based on age and name\n",
    "\n",
    "from operator import itemgetter\n",
    "\n",
    "lista = [{\"name\":\"John\", \"age\": 22},\n",
    "         {\"name\":\"Lohn\", \"age\": 27},{\"name\":\"Stephen\", \"age\": 20},{\"name\":\"Joss\", \"age\": 20}]\n",
    "\n",
    "print(sorted(lista,key = itemgetter(\"age\",\"name\")))   # key = lambda i:(i[\"age\"],i[\"name\"])"
   ]
  },
  {
   "cell_type": "code",
   "execution_count": null,
   "id": "ae11a1ea",
   "metadata": {},
   "outputs": [],
   "source": [
    "#Merging 2 dictionaries\n",
    "\n",
    "def merge(a,b):\n",
    "    r = a | b\n",
    "    return(r)\n",
    "\n",
    "dicta = {\"x\" :12,\"y\": 14,\"z\": 11}\n",
    "dictb = {\"p\" :10,\"q\": 19}\n",
    "\n",
    "dictc = merge(dicta,dictb)\n",
    "dictc"
   ]
  },
  {
   "cell_type": "code",
   "execution_count": null,
   "id": "76301c72",
   "metadata": {},
   "outputs": [],
   "source": [
    "# list values to dictionary\n",
    "\n",
    "x = {'month' : [1,2,3],\n",
    "    \"name\" : [\"Jan\",\"Feb\",\"Mar\"]}\n",
    "\n",
    "p = dict(zip(x['month'],x['name']))\n",
    "p"
   ]
  },
  {
   "cell_type": "code",
   "execution_count": null,
   "id": "d5ae5feb",
   "metadata": {},
   "outputs": [],
   "source": [
    "# Calling the key values \n",
    "\n",
    "dicta = {\"x\" :12,\"y\": 14,\"z\": 11}\n",
    "\n",
    "l = dicta[\"y\"] \n",
    "print(l)\n",
    "\n",
    "q = dicta.get(\"y\")\n",
    "print(q)"
   ]
  },
  {
   "cell_type": "code",
   "execution_count": null,
   "id": "80f91cd0",
   "metadata": {},
   "outputs": [],
   "source": [
    "# items()     ---> Returns a list containing a tuple for each key value pair\n",
    "\n",
    "car = {\n",
    "  \"brand\": \"Ford\",\n",
    "  \"model\": \"Mustang\",\n",
    "  \"year\": 1964\n",
    "}\n",
    "\n",
    "x = car.items()\n",
    "\n",
    "print(x)"
   ]
  },
  {
   "cell_type": "code",
   "execution_count": null,
   "id": "fad275fd",
   "metadata": {},
   "outputs": [],
   "source": [
    "# keys()   ---> Returns a list containing the dictionary's keys\n",
    "\n",
    "x = car.keys()\n",
    "\n",
    "print(x)"
   ]
  },
  {
   "cell_type": "code",
   "execution_count": null,
   "id": "799f5bc2",
   "metadata": {},
   "outputs": [],
   "source": [
    "# pop() ---> Removes the element with the specified key\n",
    "\n",
    "car.pop(\"model\")\n",
    "\n",
    "print(car)"
   ]
  },
  {
   "cell_type": "code",
   "execution_count": null,
   "id": "ab947124",
   "metadata": {},
   "outputs": [],
   "source": [
    "# popitem()  --> Removes the last dict element\n",
    "car = {\n",
    "  \"brand\": \"Ford\",\n",
    "  \"model\": \"Mustang\",\n",
    "  \"year\": 1964\n",
    "}\n",
    "\n",
    "car.popitem()\n",
    "\n",
    "print(car)"
   ]
  },
  {
   "cell_type": "code",
   "execution_count": null,
   "id": "6b5c012e",
   "metadata": {},
   "outputs": [],
   "source": [
    "# update() ---> to update the dictionary\n",
    "\n",
    "car = {\n",
    "  \"brand\": \"Ford\",\n",
    "  \"model\": \"Mustang\",\n",
    "  \"year\": 1964\n",
    "}\n",
    "\n",
    "car.update({\"color\": \"White\"})\n",
    "\n",
    "print(car)"
   ]
  },
  {
   "cell_type": "code",
   "execution_count": null,
   "id": "d833e5fc",
   "metadata": {},
   "outputs": [],
   "source": [
    "# values() ---> to print out v\n",
    "\n",
    "car = {\n",
    "  \"brand\": \"Ford\",\n",
    "  \"model\": \"Mustang\",\n",
    "  \"year\": 1964\n",
    "}\n",
    "\n",
    "x = car.values()\n",
    "\n",
    "print(x)"
   ]
  },
  {
   "cell_type": "code",
   "execution_count": null,
   "id": "8ab8526c",
   "metadata": {},
   "outputs": [],
   "source": [
    "#sorting dictionary based on values\n",
    "\n",
    "x = {1: 2, 3: 4, 4: 3, 2: 1, 0: 0}\n",
    "dict(sorted(x.items(), key=lambda item: item[1]))\n"
   ]
  },
  {
   "cell_type": "code",
   "execution_count": null,
   "id": "10256acd",
   "metadata": {},
   "outputs": [],
   "source": [
    "#IMMPPP\n",
    "#Sorting descending based on values\n",
    "\n",
    "import operator\n",
    "\n",
    "d = {1: 2, 3: 4, 4: 3, 2: 1, 0: 0}\n",
    "sorted_d = dict( sorted(d.items(), key=operator.itemgetter(1),reverse=True))\n",
    "\n",
    "sorted_d"
   ]
  },
  {
   "cell_type": "markdown",
   "id": "89a744dd",
   "metadata": {},
   "source": [
    "## Tuples "
   ]
  },
  {
   "cell_type": "code",
   "execution_count": null,
   "id": "71ae0c98",
   "metadata": {},
   "outputs": [],
   "source": [
    "\n",
    "thistuple = (1, 3, 7, 8, 7, 5, 4, 6, 8, 5)\n",
    "\n",
    "x = thistuple.count(5)\n",
    "\n",
    "print(x)"
   ]
  },
  {
   "cell_type": "code",
   "execution_count": null,
   "id": "4c223689",
   "metadata": {},
   "outputs": [],
   "source": [
    "thistuple = (1, 3, 7, 8, 7, 5, 4, 6, 8, 5)\n",
    "\n",
    "x = thistuple.index(8)\n",
    "\n",
    "print(x)"
   ]
  },
  {
   "cell_type": "markdown",
   "id": "8cbc7ae7",
   "metadata": {},
   "source": [
    "## Sets "
   ]
  },
  {
   "cell_type": "code",
   "execution_count": null,
   "id": "30a1cd5b",
   "metadata": {},
   "outputs": [],
   "source": [
    "#difference() -->  Returns a set containing the difference between two or more sets\n",
    "\n",
    "x = {\"apple\", \"banana\", \"cherry\"}\n",
    "y = {\"google\", \"microsoft\", \"apple\"}\n",
    "\n",
    "z = x.difference(y) \n",
    "\n",
    "print(z)"
   ]
  },
  {
   "cell_type": "code",
   "execution_count": null,
   "id": "37810ef6",
   "metadata": {},
   "outputs": [],
   "source": [
    "#The difference_update() method removes the items that exist in both sets.\n",
    "\n",
    "#The difference_update() method is different from the difference() method, because the difference() method \n",
    "#returns a new set, without the unwanted items, and the difference_update() method removes the unwanted \n",
    "#items from the original set.\n",
    "\n",
    "x = {\"apple\", \"banana\", \"cherry\"}\n",
    "y = {\"google\", \"microsoft\", \"apple\"}\n",
    "\n",
    "x.difference_update(y)\n",
    "\n",
    "print(x)\n",
    "\n"
   ]
  },
  {
   "cell_type": "code",
   "execution_count": null,
   "id": "69cf12a7",
   "metadata": {},
   "outputs": [],
   "source": [
    "#Intersection\n",
    "\n",
    "x = {\"apple\", \"banana\", \"cherry\"}\n",
    "y = {\"google\", \"microsoft\", \"apple\"}\n",
    "\n",
    "z = x.intersection(y)\n",
    "\n",
    "print(z)"
   ]
  },
  {
   "cell_type": "code",
   "execution_count": null,
   "id": "eef56cf8",
   "metadata": {},
   "outputs": [],
   "source": [
    "#Intersection example-2 => AnBnC\n",
    "\n",
    "x = {\"a\", \"b\", \"c\"}\n",
    "y = {\"c\", \"d\", \"e\"}\n",
    "z = {\"f\", \"g\", \"c\"}\n",
    "\n",
    "result = x.intersection(y, z)\n",
    "\n",
    "print(result)"
   ]
  },
  {
   "cell_type": "code",
   "execution_count": null,
   "id": "d26459a5",
   "metadata": {},
   "outputs": [],
   "source": [
    "#intersection_update() --> Removes the items in this set that are not present in other, specified set(s)\n",
    "\n",
    "#The intersection_update() method removes the items that is not present in both sets (or in all sets if \n",
    "#the comparison is done between more than two sets).\n",
    "\n",
    "#The intersection_update() method is different from the intersection() method, because the \n",
    "#intersection() method returns a new set, without the unwanted items, and the intersection_update() \n",
    "#method removes the unwanted items from the original set.\n",
    "\n",
    "x = {\"apple\", \"banana\", \"cherry\"}\n",
    "y = {\"google\", \"microsoft\", \"apple\"}\n",
    "\n",
    "x.intersection_update(y)\n",
    "\n",
    "print(x)"
   ]
  },
  {
   "cell_type": "code",
   "execution_count": null,
   "id": "c069562c",
   "metadata": {},
   "outputs": [],
   "source": [
    "#union()\tReturn a set containing the union of sets\n",
    "\n",
    "x = {\"apple\", \"banana\", \"cherry\"}\n",
    "y = {\"google\", \"microsoft\", \"apple\"}\n",
    "\n",
    "z = x.union(y)\n",
    "\n",
    "print(z)"
   ]
  },
  {
   "cell_type": "code",
   "execution_count": null,
   "id": "9647e238",
   "metadata": {},
   "outputs": [],
   "source": [
    "#Returns a set with the symmetric differences of two sets\n",
    "\n",
    "x = {\"apple\", \"banana\", \"cherry\"}\n",
    "y = {\"google\", \"microsoft\", \"apple\"}\n",
    "\n",
    "z = x.symmetric_difference(y)\n",
    "\n",
    "print(z)"
   ]
  },
  {
   "cell_type": "code",
   "execution_count": null,
   "id": "d30aaafc",
   "metadata": {},
   "outputs": [],
   "source": [
    "#symmetric_difference_update()\tinserts the symmetric differences from this set and another\n",
    "\n",
    "x = {\"apple\", \"banana\", \"cherry\"}\n",
    "y = {\"google\", \"microsoft\", \"apple\"}\n",
    "\n",
    "x.symmetric_difference_update(y)\n",
    "\n",
    "print(x)"
   ]
  },
  {
   "cell_type": "code",
   "execution_count": null,
   "id": "8eca95b5",
   "metadata": {},
   "outputs": [],
   "source": [
    "x = {\"apple\", \"banana\", \"cherry\"}\n",
    "y = {\"google\", \"microsoft\", \"apple\"}\n",
    "\n",
    "# x+y  This is not possible, like adding 2 sets\n",
    "x.update(y)\n",
    "print(x)\n",
    "print(y)"
   ]
  },
  {
   "cell_type": "code",
   "execution_count": null,
   "id": "f87b8a88",
   "metadata": {},
   "outputs": [],
   "source": [
    "#The remove() method removes the specified element from the set.\n",
    "\n",
    "#This method is different from the discard() method, because the remove() method \n",
    "#will raise an error if the specified item does not exist, and the discard() method will not.\n",
    "\n",
    "seta.discard(ele)\n",
    "\n",
    "seta.pop()      #Remove a random item from the set; takes no arguments\n",
    "\n",
    "seta.remove(ele)"
   ]
  },
  {
   "cell_type": "markdown",
   "id": "eee432b9",
   "metadata": {},
   "source": [
    "isdisjoint()\tReturns whether two sets have a intersection or not      =>True/False\n",
    "issubset()\tReturns whether another set contains this set or not         =>True/False\n",
    "issuperset()\tReturns whether this set contains another set or not     =>True/False\n",
    "union()\tReturn a set containing the union of sets\n",
    "update()\tUpdate the set with another set, or any other iterable\n"
   ]
  },
  {
   "cell_type": "code",
   "execution_count": null,
   "id": "54895c28",
   "metadata": {},
   "outputs": [],
   "source": []
  },
  {
   "cell_type": "code",
   "execution_count": null,
   "id": "8e9f4ba3",
   "metadata": {},
   "outputs": [],
   "source": []
  },
  {
   "cell_type": "code",
   "execution_count": null,
   "id": "3f961701",
   "metadata": {},
   "outputs": [],
   "source": []
  },
  {
   "cell_type": "code",
   "execution_count": null,
   "id": "25b467ab",
   "metadata": {},
   "outputs": [],
   "source": []
  },
  {
   "cell_type": "markdown",
   "id": "cd7817d1",
   "metadata": {},
   "source": [
    "\n",
    "\n",
    "\n",
    "\n",
    "\n"
   ]
  },
  {
   "cell_type": "markdown",
   "id": "ab902427",
   "metadata": {},
   "source": [
    "**Additional problems**"
   ]
  },
  {
   "cell_type": "code",
   "execution_count": null,
   "id": "d29e5ea1",
   "metadata": {},
   "outputs": [],
   "source": [
    "# convert this string to this pattern Hello --> o5l4l3e2H1\n",
    "s = \"Hello\"\n",
    "s =s[::-1]\n",
    "n=len(s)\n",
    "lista = []\n",
    "for i in s:\n",
    "    lista.append(i)\n",
    "\n",
    "for j in range(2*n):\n",
    "    if (j%2 !=0):\n",
    "        if(j<n):\n",
    "            p=int((j+1)/2)\n",
    "            lista.insert(j, str(n-j+p))\n",
    "        else:\n",
    "            p= int((j+1)/2)\n",
    "            lista.insert(j, str(p-j+n))\n",
    "    a = \"\".join(lista)\n",
    "print(a)\n"
   ]
  },
  {
   "cell_type": "code",
   "execution_count": null,
   "id": "8f79c066",
   "metadata": {},
   "outputs": [],
   "source": []
  },
  {
   "cell_type": "code",
   "execution_count": null,
   "id": "937000ec",
   "metadata": {},
   "outputs": [],
   "source": []
  },
  {
   "cell_type": "code",
   "execution_count": null,
   "id": "bc20813d",
   "metadata": {},
   "outputs": [],
   "source": []
  },
  {
   "cell_type": "code",
   "execution_count": null,
   "id": "9f62a71c",
   "metadata": {},
   "outputs": [],
   "source": []
  }
 ],
 "metadata": {
  "kernelspec": {
   "display_name": "Python 3 (ipykernel)",
   "language": "python",
   "name": "python3"
  },
  "language_info": {
   "codemirror_mode": {
    "name": "ipython",
    "version": 3
   },
   "file_extension": ".py",
   "mimetype": "text/x-python",
   "name": "python",
   "nbconvert_exporter": "python",
   "pygments_lexer": "ipython3",
   "version": "3.9.12"
  }
 },
 "nbformat": 4,
 "nbformat_minor": 5
}
